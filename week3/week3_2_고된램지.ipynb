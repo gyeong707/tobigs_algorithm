{
 "cells": [
  {
   "cell_type": "code",
   "execution_count": 1,
   "metadata": {},
   "outputs": [
    {
     "name": "stdin",
     "output_type": "stream",
     "text": [
      " 5\n",
      " 5 2 3\n",
      " 1 2 3\n"
     ]
    },
    {
     "name": "stdout",
     "output_type": "stream",
     "text": [
      "2\n"
     ]
    },
    {
     "name": "stdin",
     "output_type": "stream",
     "text": [
      " 4 3 3\n",
      " 4 1 2\n"
     ]
    },
    {
     "name": "stdout",
     "output_type": "stream",
     "text": [
      "0\n"
     ]
    },
    {
     "name": "stdin",
     "output_type": "stream",
     "text": [
      " 10 2 6\n",
      " 1 2 3 4 5 7\n"
     ]
    },
    {
     "name": "stdout",
     "output_type": "stream",
     "text": [
      "4\n"
     ]
    },
    {
     "name": "stdin",
     "output_type": "stream",
     "text": [
      " 2 1 1\n",
      " 2\n"
     ]
    },
    {
     "name": "stdout",
     "output_type": "stream",
     "text": [
      "0\n"
     ]
    },
    {
     "name": "stdin",
     "output_type": "stream",
     "text": [
      " 100 76 8\n",
      " 76 75 36 67 41 74 10 77\n"
     ]
    },
    {
     "name": "stdout",
     "output_type": "stream",
     "text": [
      "2\n"
     ]
    }
   ],
   "source": [
    "# 사용되는 변수들\n",
    "test_case = int(input()) #총 테스트를 진행할 케이스 설정\n",
    "office = [] #사무실 건물에 대한 정보, 각각 전체 층, 주호의 사무실, 문닫은 레스토랑의 개수\n",
    "close = [] #문 닫은 레스토랑의 층에 대한 정보\n",
    "floor = 0 #주호가 현재 어떤 층에 있는지를 담을 변수\n",
    "step_point = 0 #이동 층 수를 나타내는 변수\n",
    "step = [] #이동 층에 대한 정보들을 담을 리스트\n",
    "    \n",
    "\n",
    "#주호가 한 층 올라가는 함수\n",
    "def step_up(floor, total_floor, close, step_point, step): \n",
    "    floor += 1 # 주호의 현재 위치를 한 층 up시킴\n",
    "    step_point += 1 #이동 수 1 증가\n",
    "    \n",
    "    if floor not in close: #하나 올라간 층이 문 닫은 레스토랑이 아니라면\n",
    "        step.append(step_point) #step 함수에 step_point를 추가시키고 함수 종료\n",
    "    \n",
    "    elif floor == total_floor: #해당 층의 레스토랑 문이 닫았는데 지금 주호가 최상층이라면\n",
    "        return 0 #함수를 종료. 올라가서는 밥을 먹을 수 없다.\n",
    "    \n",
    "    else: #그것도 아니라면\n",
    "        step_up(floor, total_floor, close, step_point, step) #함수를 재실행, 주호는 다시 한 칸 올라간다.\n",
    "        \n",
    "        \n",
    "#주호가 한 층 내려가는 함수        \n",
    "def step_down(floor, total_floor, close, step_point, step): \n",
    "    floor -= 1 # 주호의 현재 위치를 한 층 down시킴\n",
    "    step_point += 1 #이동 수 1 증가\n",
    "\n",
    "    if floor not in close: #하나 내려간 층이 문 닫은 레스토랑이 아니라면\n",
    "        step.append(step_point) #step 함수에 step_point를 추가시키고 함수 종료\n",
    "    \n",
    "    elif floor == 1: #해당 층의 레스토랑 문이 닫았는데 지금 주호가 최하층이라면\n",
    "        return 0 #함수를 종료. 내려가서는 밥을 먹을 수 없다.\n",
    "    \n",
    "    else: #그것도 아니라면\n",
    "        step_down(floor, total_floor, close, step_point, step) #함수를 재실행, 주호는 다시 한 칸 내려간다.\n",
    "        \n",
    "        \n",
    "for t in range(test_case):\n",
    "    step = [] #step함수 초기화\n",
    "    office.append(list(map(int, input().split())))  #사용자로부터 건물 총 층수, 주호의 사무실 층, 문닫은 레스토랑 개수를 입력받음\n",
    "    close.append(list(map(int, input().split()))) #몇 층 레스토랑이 문 닫았는 지 입력 받음.\n",
    "    \n",
    "    if office[t][1] not in close[t]: #일단 주호의 사무실 층에 있는 레스토랑이 문닫았는지 확인\n",
    "        step.append(0) #안닫았으면 그냥 주호는 그 층에서 먹으면 되기 때문에 이동수는 0, 이를 step 리스트에 추가\n",
    "    \n",
    "    step_point = 0 #step_point 0으로 초기화\n",
    "    step_up(office[t][1], office[t][0], close[t], step_point, step) #주호가 올라갔을 때 밥을 먹을 수 있는지 보자\n",
    "    \n",
    "    step_point = 0 #step_point 0으로 초기화\n",
    "    step_down(office[t][1], office[t][0], close[t], step_point, step) #주호가 내려갔을 때 밥을 먹을 수 있는지 보자.\n",
    "\n",
    "    print(min(step)) #step 리스트의 최솟값을 반환. 이것이 주호가 최소로 이동했을 때 밥을 먹을 수 있는 이동수가 된다.\n"
   ]
  },
  {
   "cell_type": "code",
   "execution_count": null,
   "metadata": {},
   "outputs": [],
   "source": []
  }
 ],
 "metadata": {
  "kernelspec": {
   "display_name": "Python 3",
   "language": "python",
   "name": "python3"
  },
  "language_info": {
   "codemirror_mode": {
    "name": "ipython",
    "version": 3
   },
   "file_extension": ".py",
   "mimetype": "text/x-python",
   "name": "python",
   "nbconvert_exporter": "python",
   "pygments_lexer": "ipython3",
   "version": "3.7.6"
  }
 },
 "nbformat": 4,
 "nbformat_minor": 4
}
