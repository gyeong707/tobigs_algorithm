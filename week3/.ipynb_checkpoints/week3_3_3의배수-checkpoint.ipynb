{
 "cells": [
  {
   "cell_type": "code",
   "execution_count": 1,
   "metadata": {},
   "outputs": [
    {
     "name": "stdin",
     "output_type": "stream",
     "text": [
      " 5\n",
      " 3 3 3 3 6\n"
     ]
    },
    {
     "name": "stdout",
     "output_type": "stream",
     "text": [
      "10\n"
     ]
    }
   ],
   "source": [
    "test_case = int(input()) #총 몇개의 숫자를 받나\n",
    "result = 0 #결과를 저장할 함수\n",
    "ice = [] #연산할 숫자를 저장하는 리스트\n",
    "ice.append(list(map(int, input().split()))) #사용자로부터 숫자를 test_case개 입력받음.\n",
    "\n",
    "one, two, three = 0, 0, 0 #각각 나눈 나머지가 1인, 2인, 3인 수\n",
    "\n",
    "for i in range(test_case):\n",
    "    if ice[0][i] % 3 == 0: #i번째 인자를 3으로 나누었을 때 나머지가 0이라면\n",
    "        three += 1 #three하나 올려주고\n",
    "    elif ice[0][i] % 3 == 2: #i번째 인자를 3로 나누었을 때 나머지가 2이라면 \n",
    "        two += 1 #two를 하나 올려주고\n",
    "    else: #i번째 인자를 3으로 나누었을 때 나머지가 1이라면 \n",
    "        one += 1 #one을 하나 올려줌.\n",
    "\n",
    "# 총 개수는 다음과 같이 구할 수 있음.\n",
    "# 3의배수 three의 개수의 조합(combination) + one(나머지가 1) * two(나머지가 2)인 것들의 쌍의 개수\n",
    "result += int((three * (three-1))/2)\n",
    "result += int(one*two)\n",
    "print(result)"
   ]
  },
  {
   "cell_type": "code",
   "execution_count": null,
   "metadata": {},
   "outputs": [],
   "source": []
  }
 ],
 "metadata": {
  "kernelspec": {
   "display_name": "Python 3",
   "language": "python",
   "name": "python3"
  },
  "language_info": {
   "codemirror_mode": {
    "name": "ipython",
    "version": 3
   },
   "file_extension": ".py",
   "mimetype": "text/x-python",
   "name": "python",
   "nbconvert_exporter": "python",
   "pygments_lexer": "ipython3",
   "version": "3.7.4"
  }
 },
 "nbformat": 4,
 "nbformat_minor": 4
}
