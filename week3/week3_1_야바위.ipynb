{
 "cells": [
  {
   "cell_type": "code",
   "execution_count": 3,
   "metadata": {},
   "outputs": [
    {
     "name": "stdin",
     "output_type": "stream",
     "text": [
      " 3\n",
      " 1 2 1\n",
      " 3 2 1\n",
      " 1 3 1\n"
     ]
    },
    {
     "name": "stdout",
     "output_type": "stream",
     "text": [
      "2\n"
     ]
    }
   ],
   "source": [
    "shuf = int(input()) #총 셔플 횟수를 입력받음.\n",
    "trial = [] #셔플과 선택의 정보를 저장하는 리스트 ex) 1 2 2 (첫 번째와 두 번째를 섞었고 두 번째에 동전이 있다고 선택)\n",
    "answer = [] #각 시행에 대해 맞춘 개수를 저장하는 리스트\n",
    "ans = 0 #각 시행에서 맞춘 개수 \n",
    "cur_p = 0 #현재 동전의 위치\n",
    "\n",
    "for t in range(shuf): #입력받은 shuf 개수만큼 사용자로부터 값을 입력받음.\n",
    "    trial.append(list((input().split()))) #그것을 list 형태로 저장\n",
    "    \n",
    "for cur_p in range(1,4): #동전이 들어있는 시작 point 설정 (1 or 2 or 3)\n",
    "    ans = 0 #맞은 개수는 초기 0값을 가짐.\n",
    "    for s in range(shuf): #s번째 시도\n",
    "        if cur_p == int(trial[s][0]): #현재 동전의 위치가 첫 번째 인자와 일치한다면\n",
    "            cur_p = int(trial[s][1]) #두 번째 인자가 현재 동전의 위치가 됨.\n",
    "            \n",
    "        elif cur_p == int(trial[s][1]): #현재 동전의 위치가 두 번째 인자와 일치한다면\n",
    "            cur_p = int(trial[s][0]) #첫 번째 인자가 현재 동전의 위치가 됨.\n",
    "        \n",
    "        #만약 어떤 것과도 일치하지 않는다면, 동전이 들어간 컵은 움직이지 않았으므로 cur_p는 변하지 않음.\n",
    "        \n",
    "        if cur_p == int(trial[s][2]): #만약 현재 동전의 위치와 선택한 값이 같다면\n",
    "            ans += 1 #한 번 맞췄으니 ans 값을 하나 올려줌.\n",
    "            \n",
    "    answer.append(ans) #하나의 시작 point에 대해 모든 셔플이 끝났다면 해당 값을 리스트에 넣음.\n",
    "\n",
    "print(max(answer)) #최종 리스트는 각각 [시작점이 1일때의 맞춘 개수, 시작점이 2일때의 맞춘 개수, 시작점이 3일 때의 맞춘 개수]일 것\n",
    "            "
   ]
  },
  {
   "cell_type": "code",
   "execution_count": null,
   "metadata": {},
   "outputs": [],
   "source": []
  }
 ],
 "metadata": {
  "kernelspec": {
   "display_name": "Python 3",
   "language": "python",
   "name": "python3"
  },
  "language_info": {
   "codemirror_mode": {
    "name": "ipython",
    "version": 3
   },
   "file_extension": ".py",
   "mimetype": "text/x-python",
   "name": "python",
   "nbconvert_exporter": "python",
   "pygments_lexer": "ipython3",
   "version": "3.7.6"
  }
 },
 "nbformat": 4,
 "nbformat_minor": 4
}
