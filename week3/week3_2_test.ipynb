{
 "cells": [
  {
   "cell_type": "code",
   "execution_count": 2,
   "metadata": {},
   "outputs": [
    {
     "name": "stdin",
     "output_type": "stream",
     "text": [
      " 5\n"
     ]
    },
    {
     "name": "stdout",
     "output_type": "stream",
     "text": [
      "1 번째 테스트 케이스 입니다\n"
     ]
    },
    {
     "name": "stdin",
     "output_type": "stream",
     "text": [
      " 5 2 3\n"
     ]
    },
    {
     "name": "stdout",
     "output_type": "stream",
     "text": [
      "office :  [[5, 2, 3]]\n"
     ]
    },
    {
     "name": "stdin",
     "output_type": "stream",
     "text": [
      " 1 2 3\n"
     ]
    },
    {
     "name": "stdout",
     "output_type": "stream",
     "text": [
      "close :  [[1, 2, 3]]\n",
      "------------------------------\n",
      "------------------------------\n",
      "현재 층은  2  Step Up!\n",
      "Step up! 현재 층수는  3 이동 수는  1 입니다\n",
      "한 칸 더 올라갑니다\n",
      "Step up! 현재 층수는  4 이동 수는  2 입니다\n",
      "야호! 주호는  4 층에서 밥을 먹을 수 있다\n",
      "------------------------------\n",
      "현재 층은  2  Step down!\n",
      "Step down! 현재 층수는  1 이동 수는  1 입니다\n",
      "현재 최하층입니다.\n",
      "2\n",
      "------------------------------\n",
      "2 번째 테스트 케이스 입니다\n"
     ]
    },
    {
     "name": "stdin",
     "output_type": "stream",
     "text": [
      " 4 3 3\n"
     ]
    },
    {
     "name": "stdout",
     "output_type": "stream",
     "text": [
      "office :  [[5, 2, 3], [4, 3, 3]]\n"
     ]
    },
    {
     "name": "stdin",
     "output_type": "stream",
     "text": [
      " 4 1 2\n"
     ]
    },
    {
     "name": "stdout",
     "output_type": "stream",
     "text": [
      "close :  [[1, 2, 3], [4, 1, 2]]\n",
      "------------------------------\n",
      "야호! 주호는  3 층에서 밥을 먹을 수 있다\n",
      "------------------------------\n",
      "현재 층은  3  Step Up!\n",
      "Step up! 현재 층수는  4 이동 수는  1 입니다\n",
      "현재 최상층입니다.\n",
      "------------------------------\n",
      "현재 층은  3  Step down!\n",
      "Step down! 현재 층수는  2 이동 수는  1 입니다\n",
      "한 칸 더 내려갑니다\n",
      "Step down! 현재 층수는  1 이동 수는  2 입니다\n",
      "현재 최하층입니다.\n",
      "0\n",
      "------------------------------\n",
      "3 번째 테스트 케이스 입니다\n"
     ]
    },
    {
     "name": "stdin",
     "output_type": "stream",
     "text": [
      " 10 2 6\n"
     ]
    },
    {
     "name": "stdout",
     "output_type": "stream",
     "text": [
      "office :  [[5, 2, 3], [4, 3, 3], [10, 2, 6]]\n"
     ]
    },
    {
     "name": "stdin",
     "output_type": "stream",
     "text": [
      " 1 2 3 4 5 7\n"
     ]
    },
    {
     "name": "stdout",
     "output_type": "stream",
     "text": [
      "close :  [[1, 2, 3], [4, 1, 2], [1, 2, 3, 4, 5, 7]]\n",
      "------------------------------\n",
      "------------------------------\n",
      "현재 층은  2  Step Up!\n",
      "Step up! 현재 층수는  3 이동 수는  1 입니다\n",
      "한 칸 더 올라갑니다\n",
      "Step up! 현재 층수는  4 이동 수는  2 입니다\n",
      "한 칸 더 올라갑니다\n",
      "Step up! 현재 층수는  5 이동 수는  3 입니다\n",
      "한 칸 더 올라갑니다\n",
      "Step up! 현재 층수는  6 이동 수는  4 입니다\n",
      "야호! 주호는  6 층에서 밥을 먹을 수 있다\n",
      "------------------------------\n",
      "현재 층은  2  Step down!\n",
      "Step down! 현재 층수는  1 이동 수는  1 입니다\n",
      "현재 최하층입니다.\n",
      "4\n",
      "------------------------------\n",
      "4 번째 테스트 케이스 입니다\n"
     ]
    },
    {
     "name": "stdin",
     "output_type": "stream",
     "text": [
      " 2 1 1\n"
     ]
    },
    {
     "name": "stdout",
     "output_type": "stream",
     "text": [
      "office :  [[5, 2, 3], [4, 3, 3], [10, 2, 6], [2, 1, 1]]\n"
     ]
    },
    {
     "name": "stdin",
     "output_type": "stream",
     "text": [
      " 2\n"
     ]
    },
    {
     "name": "stdout",
     "output_type": "stream",
     "text": [
      "close :  [[1, 2, 3], [4, 1, 2], [1, 2, 3, 4, 5, 7], [2]]\n",
      "------------------------------\n",
      "야호! 주호는  1 층에서 밥을 먹을 수 있다\n",
      "------------------------------\n",
      "현재 층은  1  Step Up!\n",
      "Step up! 현재 층수는  2 이동 수는  1 입니다\n",
      "현재 최상층입니다.\n",
      "------------------------------\n",
      "현재 층은  1  Step down!\n",
      "Step down! 현재 층수는  0 이동 수는  1 입니다\n",
      "야호! 주호는  0 층에서 밥을 먹을 수 있다\n",
      "0\n",
      "------------------------------\n",
      "5 번째 테스트 케이스 입니다\n"
     ]
    },
    {
     "name": "stdin",
     "output_type": "stream",
     "text": [
      " 100 76 8\n"
     ]
    },
    {
     "name": "stdout",
     "output_type": "stream",
     "text": [
      "office :  [[5, 2, 3], [4, 3, 3], [10, 2, 6], [2, 1, 1], [100, 76, 8]]\n"
     ]
    },
    {
     "name": "stdin",
     "output_type": "stream",
     "text": [
      " 76 75 36 67 41 74 10 77\n"
     ]
    },
    {
     "name": "stdout",
     "output_type": "stream",
     "text": [
      "close :  [[1, 2, 3], [4, 1, 2], [1, 2, 3, 4, 5, 7], [2], [76, 75, 36, 67, 41, 74, 10, 77]]\n",
      "------------------------------\n",
      "------------------------------\n",
      "현재 층은  76  Step Up!\n",
      "Step up! 현재 층수는  77 이동 수는  1 입니다\n",
      "한 칸 더 올라갑니다\n",
      "Step up! 현재 층수는  78 이동 수는  2 입니다\n",
      "야호! 주호는  78 층에서 밥을 먹을 수 있다\n",
      "------------------------------\n",
      "현재 층은  76  Step down!\n",
      "Step down! 현재 층수는  75 이동 수는  1 입니다\n",
      "한 칸 더 내려갑니다\n",
      "Step down! 현재 층수는  74 이동 수는  2 입니다\n",
      "한 칸 더 내려갑니다\n",
      "Step down! 현재 층수는  73 이동 수는  3 입니다\n",
      "야호! 주호는  73 층에서 밥을 먹을 수 있다\n",
      "2\n",
      "------------------------------\n"
     ]
    }
   ],
   "source": [
    "## 사용되는 변수들\n",
    "test_case = int(input()) #총 테스트를 진행할 케이스 설정\n",
    "office = [] #사무실 건물에 대한 정보, 각각 전체 층, 주호의 사무실, 문닫은 레스토랑의 개수\n",
    "close = [] #문 닫은 레스토랑의 층에 대한 정보\n",
    "floor = 0 #주호가 현재 어떤 층에 있는지를 담을 변수\n",
    "step_point = 0 #이동 층 수를 나타내는 변수\n",
    "step = [] #이동 층에 대한 정보들을 담을 리스트\n",
    "    \n",
    "\n",
    "#주호가 한 층 올라가는 함수\n",
    "def step_up(floor, total_floor, close, step_point, step): \n",
    "    floor += 1 # 주호의 현재 위치를 한 층 up시킴\n",
    "    step_point += 1 #이동 수 1 증가\n",
    "    print(\"Step up! 현재 층수는 \", floor, \"이동 수는 \", step_point, \"입니다\")\n",
    "    \n",
    "    if floor not in close: #하나 올라간 층이 문 닫은 레스토랑이 아니라면\n",
    "        step.append(step_point) #step 함수에 step_point를 추가시키고\n",
    "        print(\"야호! 주호는 \", floor, \"층에서 밥을 먹을 수 있다\")\n",
    "        return step_point #step_point를 반환하고 함수를 종료. 주호는 해당 층에서 점심을 먹는다.\n",
    "    \n",
    "    elif floor == total_floor: #해당 층의 레스토랑 문이 닫았는데 지금 주호가 최상층이라면\n",
    "        step.append(step_point)\n",
    "        print(\"현재 최상층입니다.\")\n",
    "        return total_floor+1 #가능한 최댓값을 반환하고 함수를 종료. 올라가기만 해서는 주호는 밥을 먹을 수 없음.\n",
    "    \n",
    "    else: #그것도 아니라면\n",
    "        print(\"한 칸 더 올라갑니다\")\n",
    "        step_up(floor, total_floor, close, step_point, step) #함수를 재실행, 주호는 다시 한 칸 올라간다.\n",
    "        \n",
    "        \n",
    "#주호가 한 층 올라가는 함수        \n",
    "def step_down(floor, total_floor, close, step_point, step): \n",
    "    floor -= 1 # 주호의 현재 위치를 한 층 down시킴\n",
    "    step_point += 1 #이동 수 1 감소\n",
    "    print(\"Step down! 현재 층수는 \", floor, \"이동 수는 \", step_point, \"입니다\")\n",
    "\n",
    "    if floor not in close: #하나 내려간 층이 문 닫은 레스토랑이 아니라면\n",
    "        step.append(step_point) #step 함수에 step_point를 추가시키고\n",
    "        print(\"야호! 주호는 \", floor, \"층에서 밥을 먹을 수 있다\")\n",
    "#         return step_point #step_point를 반환하고 함수를 종료. 주호는 해당 층에서 점심을 먹는다.\n",
    "    \n",
    "    elif floor == 1: #해당 층의 레스토랑 문이 닫았는데 지금 주호가 최하층이라면\n",
    "        step.append(total_floor+1)\n",
    "        print(\"현재 최하층입니다.\")\n",
    "#         return total_floor+1 #가능한 최댓값을 반환하고 함수를 종료. 내려가기만 해서는 주호는 밥을 먹을 수 없음.\n",
    "    \n",
    "    else: #그것도 아니라면\n",
    "        print(\"한 칸 더 내려갑니다\")\n",
    "        step_down(floor, total_floor, close, step_point, step) #함수를 재실행, 주호는 다시 한 칸 내려간다.\n",
    "        \n",
    "        \n",
    "    \n",
    "for t in range(test_case):\n",
    "    step = [] #step함수 초기화\n",
    "    print(t+1,\"번째 테스트 케이스 입니다\")\n",
    "    \n",
    "    office.append(list(map(int, input().split())))\n",
    "    print(\"office : \", office)\n",
    "    \n",
    "    close.append(list(map(int, input().split())))\n",
    "    print(\"close : \", close)\n",
    "    \n",
    "    print('-'*30)\n",
    "    if office[t][1] not in close[t]:\n",
    "        step.append(0)\n",
    "        print(\"야호! 주호는 \", office[t][1], \"층에서 밥을 먹을 수 있다\")\n",
    "    \n",
    "    print('-'*30)\n",
    "    print(\"현재 층은 \", office[t][1], \" Step Up!\")\n",
    "    step_point = 0 #step_point 0으로 초기화\n",
    "    step_up(office[t][1], office[t][0], close[t], step_point, step)\n",
    "    \n",
    "    \n",
    "    print('-'*30)\n",
    "    print(\"현재 층은 \", office[t][1], \" Step down!\")\n",
    "    step_point = 0 #step_point 0으로 초기화\n",
    "    step_down(office[t][1], office[t][0], close[t], step_point, step)\n",
    "\n",
    "    print(min(step))\n",
    "    print('-'*30)\n"
   ]
  },
  {
   "cell_type": "code",
   "execution_count": null,
   "metadata": {},
   "outputs": [],
   "source": []
  }
 ],
 "metadata": {
  "kernelspec": {
   "display_name": "Python 3",
   "language": "python",
   "name": "python3"
  },
  "language_info": {
   "codemirror_mode": {
    "name": "ipython",
    "version": 3
   },
   "file_extension": ".py",
   "mimetype": "text/x-python",
   "name": "python",
   "nbconvert_exporter": "python",
   "pygments_lexer": "ipython3",
   "version": "3.7.4"
  }
 },
 "nbformat": 4,
 "nbformat_minor": 4
}
