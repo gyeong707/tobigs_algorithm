{
 "cells": [
  {
   "cell_type": "code",
   "execution_count": null,
   "metadata": {},
   "outputs": [],
   "source": [
    "test_case = int(input()) #아이스크림 길이 개수를 입력받음.\n",
    "result = 0 #결과를 저장할 함수\n",
    "ice = [] #아이스크림 길이의 정보를 저장할 리스트\n",
    "ice.append(list(map(int, input().split()))) #사용자로부터 아이스크림 길이를 리스트 형태로 입력받음.\n",
    "\n",
    "for i in range(test_case): #기준\n",
    "    for j in range(i+1, test_case): #비교 (자신보다 큰 인덱스 위치의 것들만 비교)\n",
    "        if (ice[0][i] + ice[0][j]) % 3 == 0: #두 개를 더한 값이 나누어서 3으로 떨어지면\n",
    "            result += 1 #result를 하나 올려준다.\n",
    "\n",
    "print(result) #최종 결과\n"
   ]
  },
  {
   "cell_type": "code",
   "execution_count": null,
   "metadata": {},
   "outputs": [],
   "source": []
  }
 ],
 "metadata": {
  "kernelspec": {
   "display_name": "Python 3",
   "language": "python",
   "name": "python3"
  },
  "language_info": {
   "codemirror_mode": {
    "name": "ipython",
    "version": 3
   },
   "file_extension": ".py",
   "mimetype": "text/x-python",
   "name": "python",
   "nbconvert_exporter": "python",
   "pygments_lexer": "ipython3",
   "version": "3.7.4"
  }
 },
 "nbformat": 4,
 "nbformat_minor": 4
}
