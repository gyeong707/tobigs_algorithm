{
 "cells": [
  {
   "cell_type": "code",
   "execution_count": 20,
   "metadata": {},
   "outputs": [
    {
     "name": "stdin",
     "output_type": "stream",
     "text": [
      " 5\n",
      " 1 2 2\n"
     ]
    },
    {
     "name": "stdout",
     "output_type": "stream",
     "text": [
      "[['1', '2', '2']]\n"
     ]
    },
    {
     "name": "stdin",
     "output_type": "stream",
     "text": [
      " 3 1 1\n"
     ]
    },
    {
     "name": "stdout",
     "output_type": "stream",
     "text": [
      "[['1', '2', '2'], ['3', '1', '1']]\n"
     ]
    },
    {
     "name": "stdin",
     "output_type": "stream",
     "text": [
      " 3 2 1\n"
     ]
    },
    {
     "name": "stdout",
     "output_type": "stream",
     "text": [
      "[['1', '2', '2'], ['3', '1', '1'], ['3', '2', '1']]\n"
     ]
    },
    {
     "name": "stdin",
     "output_type": "stream",
     "text": [
      " 2 1 3\n"
     ]
    },
    {
     "name": "stdout",
     "output_type": "stream",
     "text": [
      "[['1', '2', '2'], ['3', '1', '1'], ['3', '2', '1'], ['2', '1', '3']]\n"
     ]
    },
    {
     "name": "stdin",
     "output_type": "stream",
     "text": [
      " 2 2 1\n"
     ]
    },
    {
     "name": "stdout",
     "output_type": "stream",
     "text": [
      "[['1', '2', '2'], ['3', '1', '1'], ['3', '2', '1'], ['2', '1', '3'], ['2', '2', '1']]\n",
      "시작점 :  1\n",
      "1 번째 시도\n",
      "첫 번째와 일치, 현재 포인트는  2\n",
      "한 번 맞췄습니다. ans =  1\n",
      "현재 ans는 :  1\n",
      "2 번째 시도\n",
      "세 번째와 일치, 현재 포인트는  2\n",
      "현재 ans는 :  1\n",
      "3 번째 시도\n",
      "두 번째와 일치, 현재 포인트는  3\n",
      "현재 ans는 :  1\n",
      "4 번째 시도\n",
      "세 번째와 일치, 현재 포인트는  3\n",
      "한 번 맞췄습니다. ans =  2\n",
      "현재 ans는 :  2\n",
      "5 번째 시도\n",
      "세 번째와 일치, 현재 포인트는  3\n",
      "현재 ans는 :  2\n",
      "시작점 :  2\n",
      "1 번째 시도\n",
      "두 번째와 일치, 현재 포인트는  1\n",
      "현재 ans는 :  0\n",
      "2 번째 시도\n",
      "두 번째와 일치, 현재 포인트는  3\n",
      "현재 ans는 :  0\n",
      "3 번째 시도\n",
      "첫 번째와 일치, 현재 포인트는  2\n",
      "현재 ans는 :  0\n",
      "4 번째 시도\n",
      "첫 번째와 일치, 현재 포인트는  1\n",
      "현재 ans는 :  0\n",
      "5 번째 시도\n",
      "세 번째와 일치, 현재 포인트는  1\n",
      "한 번 맞췄습니다. ans =  1\n",
      "현재 ans는 :  1\n",
      "시작점 :  3\n",
      "1 번째 시도\n",
      "세 번째와 일치, 현재 포인트는  3\n",
      "현재 ans는 :  0\n",
      "2 번째 시도\n",
      "첫 번째와 일치, 현재 포인트는  1\n",
      "한 번 맞췄습니다. ans =  1\n",
      "현재 ans는 :  1\n",
      "3 번째 시도\n",
      "세 번째와 일치, 현재 포인트는  1\n",
      "한 번 맞췄습니다. ans =  2\n",
      "현재 ans는 :  2\n",
      "4 번째 시도\n",
      "두 번째와 일치, 현재 포인트는  2\n",
      "현재 ans는 :  2\n",
      "5 번째 시도\n",
      "첫 번째와 일치, 현재 포인트는  2\n",
      "현재 ans는 :  2\n",
      "최대값은 :  2\n"
     ]
    }
   ],
   "source": [
    "shuf = int(input()) #total shuffle count\n",
    "trial = [] #초기에 입력받는 셔플과 답의 정보\n",
    "answer = []\n",
    "ans = 0#고른 답이 얼마나 맞았는지에 대한 정보\n",
    "cur_p = 0 #현재 동전이 어디있느냐를 담고 있는 변수\n",
    "\n",
    "for t in range(shuf):\n",
    "    trial.append(list((input().split())))\n",
    "    print(trial)\n",
    "    \n",
    "for cur_p in range(1,4): #현재 동전이 들어있는 point (1 or 2 or 3)\n",
    "    ans = 0\n",
    "    print(\"시작점 : \", cur_p)\n",
    "    for s in range(shuf):\n",
    "        print(s+1,\"번째 시도\")\n",
    "        if cur_p == int(trial[s][0]):\n",
    "            cur_p = int(trial[s][1])\n",
    "            print(\"첫 번째와 일치, 현재 포인트는 \", cur_p)\n",
    "            \n",
    "        elif cur_p == int(trial[s][1]):\n",
    "            cur_p = int(trial[s][0])\n",
    "            print(\"두 번째와 일치, 현재 포인트는 \", cur_p)\n",
    "        \n",
    "        else:\n",
    "            print(\"세 번째와 일치, 현재 포인트는 \", cur_p)\n",
    "        \n",
    "        if cur_p == int(trial[s][2]):\n",
    "            ans += 1\n",
    "            print(\"한 번 맞췄습니다. ans = \", ans)\n",
    "        \n",
    "        print(\"현재 ans는 : \", ans)\n",
    "    \n",
    "    answer.append(ans)\n",
    "\n",
    "print(\"최대값은 : \", max(answer))\n",
    "            "
   ]
  },
  {
   "cell_type": "markdown",
   "metadata": {},
   "source": [
    "# shuf1 = 2\n",
    "trial1 = []\n",
    "for t in range(shuf1):\n",
    "    trial1.append(list((input().split())))\n",
    "    print(trial1)"
   ]
  },
  {
   "cell_type": "code",
   "execution_count": 5,
   "metadata": {},
   "outputs": [
    {
     "data": {
      "text/plain": [
       "'1'"
      ]
     },
     "execution_count": 5,
     "metadata": {},
     "output_type": "execute_result"
    }
   ],
   "source": [
    "trial1[0][0]"
   ]
  },
  {
   "cell_type": "code",
   "execution_count": 17,
   "metadata": {},
   "outputs": [
    {
     "data": {
      "text/plain": [
       "3"
      ]
     },
     "execution_count": 17,
     "metadata": {},
     "output_type": "execute_result"
    }
   ],
   "source": [
    "t_list = [1, 2, 3]\n",
    "max(t_list)"
   ]
  },
  {
   "cell_type": "code",
   "execution_count": null,
   "metadata": {},
   "outputs": [],
   "source": []
  }
 ],
 "metadata": {
  "kernelspec": {
   "display_name": "Python 3",
   "language": "python",
   "name": "python3"
  },
  "language_info": {
   "codemirror_mode": {
    "name": "ipython",
    "version": 3
   },
   "file_extension": ".py",
   "mimetype": "text/x-python",
   "name": "python",
   "nbconvert_exporter": "python",
   "pygments_lexer": "ipython3",
   "version": "3.7.4"
  }
 },
 "nbformat": 4,
 "nbformat_minor": 4
}
