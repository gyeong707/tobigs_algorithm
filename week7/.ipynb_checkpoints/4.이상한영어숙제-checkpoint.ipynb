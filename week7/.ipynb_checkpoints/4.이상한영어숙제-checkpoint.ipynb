{
 "cells": [
  {
   "cell_type": "code",
   "execution_count": 4,
   "metadata": {},
   "outputs": [
    {
     "name": "stdin",
     "output_type": "stream",
     "text": [
      " 2\n",
      " ABCCD\n",
      " AGDDD\n"
     ]
    },
    {
     "name": "stdout",
     "output_type": "stream",
     "text": [
      "word_list :  ['ABCCD', 'AGDDD']\n"
     ]
    }
   ],
   "source": [
    "#초기인자 입력\n",
    "word_num = int(input())\n",
    "word_list = []\n",
    "for i in range(word_num):\n",
    "    temp = input()\n",
    "    word_list.append(temp)\n",
    "print(\"word_list : \", word_list)"
   ]
  },
  {
   "cell_type": "code",
   "execution_count": 46,
   "metadata": {},
   "outputs": [],
   "source": [
    "word_list = ['FCG', 'BCDEA', \"EZ\"]"
   ]
  },
  {
   "cell_type": "code",
   "execution_count": 47,
   "metadata": {},
   "outputs": [
    {
     "data": {
      "text/plain": [
       "['BCDEA', 'FCG', 'EZ']"
      ]
     },
     "execution_count": 47,
     "metadata": {},
     "output_type": "execute_result"
    }
   ],
   "source": [
    "#단어 리스트를 순서를 기준으로 내림차순으로 정렬함.\n",
    "word_list = sorted(word_list, key=len, reverse=True)\n",
    "word_list"
   ]
  },
  {
   "cell_type": "code",
   "execution_count": 48,
   "metadata": {},
   "outputs": [
    {
     "data": {
      "text/plain": [
       "[0, 1, 2, 3, 4, 5, 6, 7, 8, 9]"
      ]
     },
     "execution_count": 48,
     "metadata": {},
     "output_type": "execute_result"
    }
   ],
   "source": [
    "#할당할 숫자를 저장하는 리스트, stack 형태로 이용\n",
    "num_list = list(range(0, 10))\n",
    "num_list"
   ]
  },
  {
   "cell_type": "code",
   "execution_count": 49,
   "metadata": {},
   "outputs": [],
   "source": [
    "#할당된 숫자와 알파벳을 딕셔너리 형태로 저장하는 딕셔너리\n",
    "word_num_dict = {}"
   ]
  },
  {
   "cell_type": "code",
   "execution_count": 50,
   "metadata": {},
   "outputs": [
    {
     "data": {
      "text/plain": [
       "{'B': 9, 'C': 8}"
      ]
     },
     "execution_count": 50,
     "metadata": {},
     "output_type": "execute_result"
    }
   ],
   "source": [
    "#길이를 비교해서 제일 앞에 있는 것 순서대로 큰 숫자를 부여하는 함수 만들기\n",
    "def word_length(word_list):\n",
    "    if len(word_list) == 1:\n",
    "        pass #단어가 하나 주어진 경우 예외처리\n",
    "        #이 경우는 좀 더 고민해보아야 함.\n",
    "    \n",
    "    else: #단어가 두 개 이상인 경우에 대해서만 실행\n",
    "        comp = len(word_list[0]) - len(word_list[1])\n",
    "        if comp == 0:\n",
    "            pass #단어 두 개가 길이가 똑같은 경우 예외처리\n",
    "            #이 경우 바로 빈도수를 구해주는 함수로 넘어감.\n",
    "        else:\n",
    "            for i in range(comp): \n",
    "                word_num_dict[word_list[0][i]] = num_list[-1]\n",
    "                num_list.pop()\n",
    "            return word_num_dict\n",
    "\n",
    "word_length(word_list)"
   ]
  },
  {
   "cell_type": "code",
   "execution_count": 62,
   "metadata": {},
   "outputs": [
    {
     "data": {
      "text/plain": [
       "Counter({'B': 1, 'C': 2, 'D': 1, 'E': 2, 'A': 1, 'F': 1, 'G': 1, 'Z': 1})"
      ]
     },
     "execution_count": 62,
     "metadata": {},
     "output_type": "execute_result"
    }
   ],
   "source": [
    "#리스트를 인자로받아서 문자 하나하나의 빈도를 구해 반환하는 함수 작성\n",
    "import collections\n",
    "\n",
    "def word_count(word_list):\n",
    "    compare = []\n",
    "    for i in range(len(word_list)):\n",
    "        for j in range(len(word_list[i])):\n",
    "            compare.append(word_list[i][j])\n",
    "    \n",
    "    count = collections.Counter(compare)\n",
    "    return count\n",
    "\n",
    "count = word_count(word_list)\n",
    "count"
   ]
  },
  {
   "cell_type": "code",
   "execution_count": 59,
   "metadata": {},
   "outputs": [
    {
     "data": {
      "text/plain": [
       "['B', 'C']"
      ]
     },
     "execution_count": 59,
     "metadata": {},
     "output_type": "execute_result"
    }
   ],
   "source": [
    "ass_alpha = list(word_num_dict.keys())\n",
    "ass_alpha"
   ]
  },
  {
   "cell_type": "code",
   "execution_count": 68,
   "metadata": {},
   "outputs": [
    {
     "data": {
      "text/plain": [
       "['B', 'C', 'D', 'E', 'A', 'F', 'G', 'Z']"
      ]
     },
     "execution_count": 68,
     "metadata": {},
     "output_type": "execute_result"
    }
   ],
   "source": [
    "sorted(count, key=len)"
   ]
  },
  {
   "cell_type": "code",
   "execution_count": null,
   "metadata": {},
   "outputs": [],
   "source": [
    "def word_count_ass(count):\n",
    "    ass_alpha = list(word_num_dict.keys())\n",
    "    "
   ]
  },
  {
   "cell_type": "code",
   "execution_count": null,
   "metadata": {},
   "outputs": [],
   "source": []
  }
 ],
 "metadata": {
  "kernelspec": {
   "display_name": "Python 3",
   "language": "python",
   "name": "python3"
  },
  "language_info": {
   "codemirror_mode": {
    "name": "ipython",
    "version": 3
   },
   "file_extension": ".py",
   "mimetype": "text/x-python",
   "name": "python",
   "nbconvert_exporter": "python",
   "pygments_lexer": "ipython3",
   "version": "3.7.6"
  }
 },
 "nbformat": 4,
 "nbformat_minor": 4
}
