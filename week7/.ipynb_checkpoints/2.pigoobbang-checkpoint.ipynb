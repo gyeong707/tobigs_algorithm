{
 "cells": [
  {
   "cell_type": "markdown",
   "metadata": {},
   "source": [
    "### 입력 변수 선언 및 전처리"
   ]
  },
  {
   "cell_type": "code",
   "execution_count": 75,
   "metadata": {},
   "outputs": [
    {
     "name": "stdin",
     "output_type": "stream",
     "text": [
      " 4\n",
      " 0 1 2 3\n",
      " 4 0 5 6 \n",
      " 7 1 0 2 \n",
      " 3 4 5 0\n"
     ]
    },
    {
     "name": "stdout",
     "output_type": "stream",
     "text": [
      "[[0 1 2 3]\n",
      " [4 0 5 6]\n",
      " [7 1 0 2]\n",
      " [3 4 5 0]]\n"
     ]
    }
   ],
   "source": [
    "import numpy as np\n",
    "num = int(input()) #총 몇 명이 피구에 참가할 것인가?\n",
    "S = np.array([]) #능력치 행렬\n",
    "\n",
    "for i in range(num):\n",
    "    s_list = np.array(input().split())\n",
    "    S = np.append(S, s_list)\n",
    "\n",
    "#일렬로 쭉 늘어져 저장되기 때문에 reshpe를 통해 2차원 행렬 형태로 재배열\n",
    "S = S.reshape(num, num)\n",
    "#string으로 받았기 때문에 int로 형변환 (알아서 원소 각각에 대해 형변환 해 줌.)\n",
    "S = S.astype(int)\n",
    "\n",
    "print(S) #능력치 행렬 완성"
   ]
  },
  {
   "cell_type": "markdown",
   "metadata": {},
   "source": [
    "### 가능한 모든 조합 만들기"
   ]
  },
  {
   "cell_type": "code",
   "execution_count": 95,
   "metadata": {},
   "outputs": [
    {
     "name": "stdout",
     "output_type": "stream",
     "text": [
      "num_list :  ['0' '1' '2' '3']\n",
      "2\n"
     ]
    },
    {
     "data": {
      "text/plain": [
       "[[('0',), ('1',), ('2',), ('3',)],\n",
       " [('0', '1'), ('0', '2'), ('0', '3'), ('1', '2'), ('1', '3'), ('2', '3')]]"
      ]
     },
     "execution_count": 95,
     "metadata": {},
     "output_type": "execute_result"
    }
   ],
   "source": [
    "from itertools import combinations\n",
    "import math\n",
    "\n",
    "num_list = np.array([]) #플레이어의 idx를 담고 있는 행렬\n",
    "for i in range(num):\n",
    "    num_list = np.append(num_list, i)\n",
    "\n",
    "num_list = num_list.astype(int).astype(str)\n",
    "print(\"num_list : \", num_list)\n",
    "\n",
    "\n",
    "cb_list = [] #모든 조합의 경우를 담고 있는 행렬\n",
    "cb_length = math.ceil(num/2)\n",
    "print(cb_length)\n",
    "for i in np.arange(1, cb_length+1):\n",
    "    cb_list.append(list(combinations(num_list, i)))\n",
    "\n",
    "cb_list"
   ]
  },
  {
   "cell_type": "markdown",
   "metadata": {},
   "source": [
    "### 각 조합별 스코어 계산"
   ]
  },
  {
   "cell_type": "code",
   "execution_count": 120,
   "metadata": {},
   "outputs": [],
   "source": [
    "def synergy_calculator(t, S):\n",
    "    s = 0\n",
    "    if len(t) == 1:\n",
    "        return s\n",
    "    \n",
    "    else:\n",
    "        t_list = list(permutations(t, 2))\n",
    "        print(\"t_list : \", t_list)\n",
    "        for i in range(len(t_list)):\n",
    "            i = int(t_list[i][0])\n",
    "            j = int(t_list[i][1])\n",
    "            s += S[i][j]\n",
    "        return s"
   ]
  },
  {
   "cell_type": "code",
   "execution_count": 121,
   "metadata": {},
   "outputs": [
    {
     "name": "stdout",
     "output_type": "stream",
     "text": [
      "t1 :  ['0']\n",
      "t2 :  ['1', '2', '3']\n",
      "t_list :  [('1', '2'), ('1', '3'), ('2', '1'), ('2', '3'), ('3', '1'), ('3', '2')]\n",
      "s1, s2 :  0 14\n",
      "t1 :  ['1']\n",
      "t2 :  ['2', '0', '3']\n",
      "t_list :  [('2', '0'), ('2', '3'), ('0', '2'), ('0', '3'), ('3', '2'), ('3', '0')]\n",
      "s1, s2 :  0 0\n",
      "t1 :  ['2']\n",
      "t2 :  ['1', '0', '3']\n",
      "t_list :  [('1', '0'), ('1', '3'), ('0', '1'), ('0', '3'), ('3', '1'), ('3', '0')]\n",
      "s1, s2 :  0 12\n",
      "t1 :  ['3']\n",
      "t2 :  ['1', '0', '2']\n",
      "t_list :  [('1', '0'), ('1', '2'), ('0', '1'), ('0', '2'), ('2', '1'), ('2', '0')]\n",
      "s1, s2 :  0 12\n",
      "t1 :  ['0', '1']\n",
      "t2 :  ['2', '3']\n",
      "t_list :  [('0', '1'), ('1', '0')]\n",
      "t_list :  [('2', '3'), ('3', '2')]\n"
     ]
    },
    {
     "ename": "IndexError",
     "evalue": "list index out of range",
     "output_type": "error",
     "traceback": [
      "\u001b[1;31m---------------------------------------------------------------------------\u001b[0m",
      "\u001b[1;31mIndexError\u001b[0m                                Traceback (most recent call last)",
      "\u001b[1;32m<ipython-input-121-d816791d8eec>\u001b[0m in \u001b[0;36m<module>\u001b[1;34m\u001b[0m\n\u001b[0;32m     11\u001b[0m         \u001b[1;31m#시너지 스코어를 계산\u001b[0m\u001b[1;33m\u001b[0m\u001b[1;33m\u001b[0m\u001b[1;33m\u001b[0m\u001b[0m\n\u001b[0;32m     12\u001b[0m         \u001b[0ms1\u001b[0m \u001b[1;33m=\u001b[0m \u001b[0msynergy_calculator\u001b[0m\u001b[1;33m(\u001b[0m\u001b[0mt1\u001b[0m\u001b[1;33m,\u001b[0m \u001b[0mS\u001b[0m\u001b[1;33m)\u001b[0m\u001b[1;33m\u001b[0m\u001b[1;33m\u001b[0m\u001b[0m\n\u001b[1;32m---> 13\u001b[1;33m         \u001b[0ms2\u001b[0m \u001b[1;33m=\u001b[0m \u001b[0msynergy_calculator\u001b[0m\u001b[1;33m(\u001b[0m\u001b[0mt2\u001b[0m\u001b[1;33m,\u001b[0m \u001b[0mS\u001b[0m\u001b[1;33m)\u001b[0m\u001b[1;33m\u001b[0m\u001b[1;33m\u001b[0m\u001b[0m\n\u001b[0m\u001b[0;32m     14\u001b[0m         \u001b[0mprint\u001b[0m\u001b[1;33m(\u001b[0m\u001b[1;34m\"s1, s2 : \"\u001b[0m\u001b[1;33m,\u001b[0m \u001b[0ms1\u001b[0m\u001b[1;33m,\u001b[0m \u001b[0ms2\u001b[0m\u001b[1;33m)\u001b[0m\u001b[1;33m\u001b[0m\u001b[1;33m\u001b[0m\u001b[0m\n\u001b[0;32m     15\u001b[0m \u001b[1;33m\u001b[0m\u001b[0m\n",
      "\u001b[1;32m<ipython-input-120-388c42b80f8b>\u001b[0m in \u001b[0;36msynergy_calculator\u001b[1;34m(t, S)\u001b[0m\n\u001b[0;32m      9\u001b[0m         \u001b[1;32mfor\u001b[0m \u001b[0mi\u001b[0m \u001b[1;32min\u001b[0m \u001b[0mrange\u001b[0m\u001b[1;33m(\u001b[0m\u001b[0mlen\u001b[0m\u001b[1;33m(\u001b[0m\u001b[0mt_list\u001b[0m\u001b[1;33m)\u001b[0m\u001b[1;33m)\u001b[0m\u001b[1;33m:\u001b[0m\u001b[1;33m\u001b[0m\u001b[1;33m\u001b[0m\u001b[0m\n\u001b[0;32m     10\u001b[0m             \u001b[0mi\u001b[0m \u001b[1;33m=\u001b[0m \u001b[0mint\u001b[0m\u001b[1;33m(\u001b[0m\u001b[0mt_list\u001b[0m\u001b[1;33m[\u001b[0m\u001b[0mi\u001b[0m\u001b[1;33m]\u001b[0m\u001b[1;33m[\u001b[0m\u001b[1;36m0\u001b[0m\u001b[1;33m]\u001b[0m\u001b[1;33m)\u001b[0m\u001b[1;33m\u001b[0m\u001b[1;33m\u001b[0m\u001b[0m\n\u001b[1;32m---> 11\u001b[1;33m             \u001b[0mj\u001b[0m \u001b[1;33m=\u001b[0m \u001b[0mint\u001b[0m\u001b[1;33m(\u001b[0m\u001b[0mt_list\u001b[0m\u001b[1;33m[\u001b[0m\u001b[0mi\u001b[0m\u001b[1;33m]\u001b[0m\u001b[1;33m[\u001b[0m\u001b[1;36m1\u001b[0m\u001b[1;33m]\u001b[0m\u001b[1;33m)\u001b[0m\u001b[1;33m\u001b[0m\u001b[1;33m\u001b[0m\u001b[0m\n\u001b[0m\u001b[0;32m     12\u001b[0m             \u001b[0ms\u001b[0m \u001b[1;33m+=\u001b[0m \u001b[0mS\u001b[0m\u001b[1;33m[\u001b[0m\u001b[0mi\u001b[0m\u001b[1;33m]\u001b[0m\u001b[1;33m[\u001b[0m\u001b[0mj\u001b[0m\u001b[1;33m]\u001b[0m\u001b[1;33m\u001b[0m\u001b[1;33m\u001b[0m\u001b[0m\n\u001b[0;32m     13\u001b[0m         \u001b[1;32mreturn\u001b[0m \u001b[0ms\u001b[0m\u001b[1;33m\u001b[0m\u001b[1;33m\u001b[0m\u001b[0m\n",
      "\u001b[1;31mIndexError\u001b[0m: list index out of range"
     ]
    }
   ],
   "source": [
    "from itertools import permutations \n",
    "\n",
    "for i in range(len(cb_list)):\n",
    "    for j in range(len(cb_list[i])):\n",
    "        #각 t1, t2의 멤버를 반환받은 후\n",
    "        t1 = list(cb_list[i][j]) #team1의 멤버\n",
    "        print(\"t1 : \", t1)\n",
    "        t2 = list(set(num_list) - set(cb_list[i][j])) #team2의 멤버\n",
    "        print(\"t2 : \", t2)\n",
    "\n",
    "        #시너지 스코어를 계산\n",
    "        s1 = synergy_calculator(t1, S)\n",
    "        s2 = synergy_calculator(t2, S)\n",
    "        print(\"s1, s2 : \", s1, s2)\n",
    "        "
   ]
  },
  {
   "cell_type": "code",
   "execution_count": null,
   "metadata": {},
   "outputs": [],
   "source": []
  }
 ],
 "metadata": {
  "kernelspec": {
   "display_name": "Python 3",
   "language": "python",
   "name": "python3"
  },
  "language_info": {
   "codemirror_mode": {
    "name": "ipython",
    "version": 3
   },
   "file_extension": ".py",
   "mimetype": "text/x-python",
   "name": "python",
   "nbconvert_exporter": "python",
   "pygments_lexer": "ipython3",
   "version": "3.7.6"
  }
 },
 "nbformat": 4,
 "nbformat_minor": 4
}
