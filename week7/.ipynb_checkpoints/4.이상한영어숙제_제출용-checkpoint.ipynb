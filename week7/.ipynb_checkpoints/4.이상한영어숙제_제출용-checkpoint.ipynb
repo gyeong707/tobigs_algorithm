{
 "cells": [
  {
   "cell_type": "code",
   "execution_count": 5,
   "metadata": {},
   "outputs": [
    {
     "name": "stdin",
     "output_type": "stream",
     "text": [
      " 2\n",
      " AAA\n",
      " AAA\n"
     ]
    },
    {
     "name": "stdout",
     "output_type": "stream",
     "text": [
      "1998\n"
     ]
    }
   ],
   "source": [
    "#초기인자 입력\n",
    "word_num = int(input()) #몇 개의 단어를 입력할거야 \n",
    "word_list = [] #단어 목록\n",
    "num_list = list(range(0, 10)) #할당할 0~9까지의 숫자를 담은 리스트\n",
    "\n",
    "for i in range(word_num):\n",
    "    temp = input()\n",
    "    word_list.append(temp)\n",
    "\n",
    "    \n",
    "#할당된 숫자와 알파벳을 딕셔너리 형태로 저장\n",
    "word_num_dict = {}\n",
    "for i in range(len(word_list)):\n",
    "    for j in range(len(word_list[i])):\n",
    "        if word_list[i][j] in word_num_dict.keys():\n",
    "            word_num_dict[word_list[i][j]] += 10 ** (len(word_list[i]) - j - 1)\n",
    "        else:\n",
    "            word_num_dict[word_list[i][j]] = 10 ** (len(word_list[i]) - j - 1)\n",
    "\n",
    "#저장했다면 value가 큰 순서대로 정렬\n",
    "def return_value(x):\n",
    "    return x[1]           \n",
    "word_dict = sorted(word_num_dict.items(), key=return_value, reverse=True)\n",
    "\n",
    "\n",
    "#최댓값 출력\n",
    "total = 0\n",
    "for i in range(len(word_dict)):\n",
    "    total += word_dict[i][1] * num_list[-1]\n",
    "    num_list.pop()\n",
    "\n",
    "print(total)"
   ]
  },
  {
   "cell_type": "code",
   "execution_count": null,
   "metadata": {},
   "outputs": [],
   "source": []
  }
 ],
 "metadata": {
  "kernelspec": {
   "display_name": "Python 3",
   "language": "python",
   "name": "python3"
  },
  "language_info": {
   "codemirror_mode": {
    "name": "ipython",
    "version": 3
   },
   "file_extension": ".py",
   "mimetype": "text/x-python",
   "name": "python",
   "nbconvert_exporter": "python",
   "pygments_lexer": "ipython3",
   "version": "3.7.6"
  }
 },
 "nbformat": 4,
 "nbformat_minor": 4
}
