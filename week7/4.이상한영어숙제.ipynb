{
 "cells": [
  {
   "cell_type": "code",
   "execution_count": 1,
   "metadata": {},
   "outputs": [
    {
     "name": "stdin",
     "output_type": "stream",
     "text": [
      " 3\n",
      " BCDEA\n",
      " FCG\n",
      " EZ\n"
     ]
    },
    {
     "name": "stdout",
     "output_type": "stream",
     "text": [
      "word_list :  ['BCDEA', 'FCG', 'EZ']\n"
     ]
    }
   ],
   "source": [
    "#초기인자 입력\n",
    "word_num = int(input())\n",
    "word_list = []\n",
    "for i in range(word_num):\n",
    "    temp = input()\n",
    "    word_list.append(temp)\n",
    "print(\"word_list : \", word_list)"
   ]
  },
  {
   "cell_type": "code",
   "execution_count": 2,
   "metadata": {},
   "outputs": [],
   "source": [
    "word_list = ['FCG', 'BCDEA', \"EZ\"]"
   ]
  },
  {
   "cell_type": "code",
   "execution_count": 3,
   "metadata": {},
   "outputs": [
    {
     "data": {
      "text/plain": [
       "['BCDEA', 'FCG', 'EZ']"
      ]
     },
     "execution_count": 3,
     "metadata": {},
     "output_type": "execute_result"
    }
   ],
   "source": [
    "#단어 리스트를 순서를 기준으로 내림차순으로 정렬함.\n",
    "word_list = sorted(word_list, key=len, reverse=True)\n",
    "word_list"
   ]
  },
  {
   "cell_type": "code",
   "execution_count": 4,
   "metadata": {},
   "outputs": [
    {
     "data": {
      "text/plain": [
       "[0, 1, 2, 3, 4, 5, 6, 7, 8, 9]"
      ]
     },
     "execution_count": 4,
     "metadata": {},
     "output_type": "execute_result"
    }
   ],
   "source": [
    "#할당할 숫자를 저장하는 리스트, stack 형태로 이용\n",
    "num_list = list(range(0, 10))\n",
    "num_list"
   ]
  },
  {
   "cell_type": "code",
   "execution_count": 69,
   "metadata": {},
   "outputs": [],
   "source": [
    "#할당된 숫자와 알파벳을 딕셔너리 형태로 저장하는 딕셔너리\n",
    "word_num_dict = {}"
   ]
  },
  {
   "cell_type": "code",
   "execution_count": 70,
   "metadata": {},
   "outputs": [
    {
     "name": "stdout",
     "output_type": "stream",
     "text": [
      "add dict :  B\n",
      "{'B': 10000}\n",
      "add dict :  C\n",
      "{'B': 10000, 'C': 1000}\n",
      "add dict :  D\n",
      "{'B': 10000, 'C': 1000, 'D': 100}\n",
      "add dict :  E\n",
      "{'B': 10000, 'C': 1000, 'D': 100, 'E': 10}\n",
      "add dict :  A\n",
      "{'B': 10000, 'C': 1000, 'D': 100, 'E': 10, 'A': 1}\n",
      "add dict :  F\n",
      "{'B': 10000, 'C': 1000, 'D': 100, 'E': 10, 'A': 1, 'F': 100}\n",
      "In dict already :  C\n",
      "{'B': 10000, 'C': 1010, 'D': 100, 'E': 10, 'A': 1, 'F': 100}\n",
      "add dict :  G\n",
      "{'B': 10000, 'C': 1010, 'D': 100, 'E': 10, 'A': 1, 'F': 100, 'G': 1}\n",
      "In dict already :  E\n",
      "{'B': 10000, 'C': 1010, 'D': 100, 'E': 20, 'A': 1, 'F': 100, 'G': 1}\n",
      "add dict :  Z\n",
      "{'B': 10000, 'C': 1010, 'D': 100, 'E': 20, 'A': 1, 'F': 100, 'G': 1, 'Z': 1}\n"
     ]
    }
   ],
   "source": [
    "for i in range(len(word_list)):\n",
    "    for j in range(len(word_list[i])):\n",
    "        if word_list[i][j] in word_num_dict.keys():\n",
    "            print(\"In dict already : \", word_list[i][j])\n",
    "            word_num_dict[word_list[i][j]] += 10 ** (len(word_list[i]) - j - 1)\n",
    "            print(word_num_dict)\n",
    "        else:\n",
    "            word_num_dict[word_list[i][j]] = 10 ** (len(word_list[i]) - j - 1)\n",
    "            print(\"add dict : \", word_list[i][j])\n",
    "            print(word_num_dict)"
   ]
  },
  {
   "cell_type": "code",
   "execution_count": 44,
   "metadata": {},
   "outputs": [
    {
     "data": {
      "text/plain": [
       "{'B': 10000, 'C': 1010, 'D': 100, 'E': 20, 'A': 1, 'F': 100, 'G': 1, 'Z': 1}"
      ]
     },
     "execution_count": 44,
     "metadata": {},
     "output_type": "execute_result"
    }
   ],
   "source": [
    "word_num_dict"
   ]
  },
  {
   "cell_type": "code",
   "execution_count": 51,
   "metadata": {},
   "outputs": [
    {
     "data": {
      "text/plain": [
       "dict_values([10000, 1010, 100, 20, 1, 100, 1, 1])"
      ]
     },
     "execution_count": 51,
     "metadata": {},
     "output_type": "execute_result"
    }
   ],
   "source": [
    "word_num_dict.values()"
   ]
  },
  {
   "cell_type": "code",
   "execution_count": 54,
   "metadata": {},
   "outputs": [],
   "source": [
    "def return_value(x):\n",
    "    return x[1]"
   ]
  },
  {
   "cell_type": "code",
   "execution_count": 58,
   "metadata": {},
   "outputs": [
    {
     "data": {
      "text/plain": [
       "[('B', 10000),\n",
       " ('C', 1010),\n",
       " ('D', 100),\n",
       " ('F', 100),\n",
       " ('E', 20),\n",
       " ('A', 1),\n",
       " ('G', 1),\n",
       " ('Z', 1)]"
      ]
     },
     "execution_count": 58,
     "metadata": {},
     "output_type": "execute_result"
    }
   ],
   "source": [
    "word_dict = sorted(word_num_dict.items(), key=return_value, reverse=True)\n",
    "word_dict"
   ]
  },
  {
   "cell_type": "code",
   "execution_count": 62,
   "metadata": {},
   "outputs": [],
   "source": [
    "total = 0\n",
    "for i in range(len(word_dict)):\n",
    "    total += word_dict[i][1] * num_list[-1]\n",
    "    num_list.pop()"
   ]
  },
  {
   "cell_type": "code",
   "execution_count": 63,
   "metadata": {},
   "outputs": [
    {
     "data": {
      "text/plain": [
       "99489"
      ]
     },
     "execution_count": 63,
     "metadata": {},
     "output_type": "execute_result"
    }
   ],
   "source": [
    "total"
   ]
  },
  {
   "cell_type": "code",
   "execution_count": 50,
   "metadata": {},
   "outputs": [
    {
     "data": {
      "text/plain": [
       "{'B': 9, 'C': 8}"
      ]
     },
     "execution_count": 50,
     "metadata": {},
     "output_type": "execute_result"
    }
   ],
   "source": [
    "#길이를 비교해서 제일 앞에 있는 것 순서대로 큰 숫자를 부여하는 함수 만들기\n",
    "def word_length(word_list):\n",
    "    if len(word_list) == 1:\n",
    "        pass #단어가 하나 주어진 경우 예외처리\n",
    "        #이 경우는 좀 더 고민해보아야 함.\n",
    "    \n",
    "    else: #단어가 두 개 이상인 경우에 대해서만 실행\n",
    "        comp = len(word_list[0]) - len(word_list[1])\n",
    "        if comp == 0:\n",
    "            pass #단어 두 개가 길이가 똑같은 경우 예외처리\n",
    "            #이 경우 바로 빈도수를 구해주는 함수로 넘어감.\n",
    "        else:\n",
    "            for i in range(comp): \n",
    "                word_num_dict[word_list[0][i]] = num_list[-1]\n",
    "                num_list.pop()\n",
    "            return word_num_dict\n",
    "\n",
    "word_length(word_list)"
   ]
  },
  {
   "cell_type": "code",
   "execution_count": 62,
   "metadata": {},
   "outputs": [
    {
     "data": {
      "text/plain": [
       "Counter({'B': 1, 'C': 2, 'D': 1, 'E': 2, 'A': 1, 'F': 1, 'G': 1, 'Z': 1})"
      ]
     },
     "execution_count": 62,
     "metadata": {},
     "output_type": "execute_result"
    }
   ],
   "source": [
    "#리스트를 인자로받아서 문자 하나하나의 빈도를 구해 반환하는 함수 작성\n",
    "import collections\n",
    "\n",
    "def word_count(word_list):\n",
    "    compare = []\n",
    "    for i in range(len(word_list)):\n",
    "        for j in range(len(word_list[i])):\n",
    "            compare.append(word_list[i][j])\n",
    "    \n",
    "    count = collections.Counter(compare)\n",
    "    return count\n",
    "\n",
    "count = word_count(word_list)\n",
    "count"
   ]
  },
  {
   "cell_type": "code",
   "execution_count": 59,
   "metadata": {},
   "outputs": [
    {
     "data": {
      "text/plain": [
       "['B', 'C']"
      ]
     },
     "execution_count": 59,
     "metadata": {},
     "output_type": "execute_result"
    }
   ],
   "source": [
    "ass_alpha = list(word_num_dict.keys())\n",
    "ass_alpha"
   ]
  },
  {
   "cell_type": "code",
   "execution_count": 68,
   "metadata": {},
   "outputs": [
    {
     "data": {
      "text/plain": [
       "['B', 'C', 'D', 'E', 'A', 'F', 'G', 'Z']"
      ]
     },
     "execution_count": 68,
     "metadata": {},
     "output_type": "execute_result"
    }
   ],
   "source": [
    "sorted(count, key=len)"
   ]
  },
  {
   "cell_type": "code",
   "execution_count": null,
   "metadata": {},
   "outputs": [],
   "source": [
    "def word_count_ass(count):\n",
    "    ass_alpha = list(word_num_dict.keys())\n",
    "    "
   ]
  },
  {
   "cell_type": "code",
   "execution_count": null,
   "metadata": {},
   "outputs": [],
   "source": []
  }
 ],
 "metadata": {
  "kernelspec": {
   "display_name": "Python 3",
   "language": "python",
   "name": "python3"
  },
  "language_info": {
   "codemirror_mode": {
    "name": "ipython",
    "version": 3
   },
   "file_extension": ".py",
   "mimetype": "text/x-python",
   "name": "python",
   "nbconvert_exporter": "python",
   "pygments_lexer": "ipython3",
   "version": "3.7.6"
  }
 },
 "nbformat": 4,
 "nbformat_minor": 4
}
