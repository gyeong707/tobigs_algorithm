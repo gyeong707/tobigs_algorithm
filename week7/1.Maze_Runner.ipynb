{
 "cells": [
  {
   "cell_type": "code",
   "execution_count": 779,
   "metadata": {},
   "outputs": [],
   "source": [
    "class Maze_Runner:\n",
    "    \n",
    "    maze = []\n",
    "    history = []\n",
    "    locations = []\n",
    "    step_count = 1\n",
    "    row = 0\n",
    "    col = 0\n",
    "    \n",
    "    def __init__(self): #초기 설정\n",
    "        self.row, self.col = input().split()\n",
    "        self.row = int(self.row)\n",
    "        self.col = int(self.col)\n",
    "        for i in range(self.row):\n",
    "            m = input()\n",
    "\n",
    "            if len(m) != self.col:\n",
    "                print(\"Size error\")\n",
    "                return 0\n",
    "\n",
    "            self.maze.append(m)\n",
    "\n",
    "        self.history.append(self.maze[0][0])\n",
    "        self.locations.append([0,0])\n",
    "        print(\"초기값 설정, maze는 다음과 같이 생겼습니다. \", self.maze)\n",
    "        print(\"미로찾기 시작! 시작위치는 \" , self.locations, \"이며 알파벳은\", self.history, \"입니다.\")\n",
    "            \n",
    "        \n",
    "    def available_location(self, locate): #현재 위치로부터 이동가능한 좌표를 리스트로 반환하는 함수\n",
    "        next_loc = [] #현재 위치로부터 이동할 수 있는 좌표를 담은 변수\n",
    "        print(\"현재 위치는 \", locate, \"입니다.\")\n",
    "\n",
    "        if (locate[0] == 0 and locate[1] == 0) or (locate[0] == self.row-1 and locate[1] == self.col-1) or (locate[0] == self.row-1 and locate[1] == 0) or (locate[0] == 0 and locate[1] == self.col-1): #가생이에 있다면 2곳으로 밖에 이동 못 함.\n",
    "            if locate[0] == 0:\n",
    "                next_loc.append([locate[0]+1, locate[1]])\n",
    "            else:\n",
    "                next_loc.append([locate[0]-1, locate[1]])\n",
    "            \n",
    "            if locate[1] == 0:\n",
    "                next_loc.append([locate[0], locate[1]+1])\n",
    "            else:\n",
    "                next_loc.append([locate[0], locate[1]-1])\n",
    "                \n",
    "            print(\"가생이에 있으므로 이동할 수 있는 경로는 \", next_loc, \"입니다.\")\n",
    "            return next_loc\n",
    "        \n",
    "        #가생이는 아니지만 벽에 위치하는 경우\n",
    "        elif locate[0] == 0 or locate[0] == self.row-1:\n",
    "            next_loc.append([locate[0], locate[1]+1])\n",
    "            next_loc.append([locate[0], locate[1]-1])\n",
    "            if locate[0] == 0:\n",
    "                next_loc.append([locate[0]+1, locate[1]])\n",
    "            else:\n",
    "                next_loc.append([locate[0]-1, locate[1]])\n",
    "            print(\"벽에 있으므로 이동할 수 있는 경로는 \", next_loc, \"입니다.\")\n",
    "\n",
    "            return next_loc\n",
    "        \n",
    "        elif locate[1] == 0 or locate[1] == self.col-1:\n",
    "            next_loc.append([locate[0]+1, locate[1]])\n",
    "            next_loc.append([locate[0]-1, locate[1]])\n",
    "            if locate[1] == 0:\n",
    "                next_loc.append([locate[0], locate[1]+1])\n",
    "            else:\n",
    "                next_loc.append([locate[0], locate[1]-1])\n",
    "            print(\"벽에 있으므로 이동할 수 있는 경로는 \", next_loc, \"입니다.\")            \n",
    "            return next_loc\n",
    "        \n",
    "        else: # 중앙에 위치하여 어느쪽으로든 이동할 수 있는 경우\n",
    "            next_loc.append([locate[0], locate[1]+1])\n",
    "            next_loc.append([locate[0], locate[1]-1])\n",
    "            next_loc.append([locate[0]+1, locate[1]])\n",
    "            next_loc.append([locate[0]-1, locate[1]])\n",
    "            print(\"중앙에 있으므로 이동할 수 있는 경로는 \", next_loc, \"입니다.\")\n",
    "            return next_loc\n",
    "\n",
    "        \n",
    "    def available_step(self, next_loc): #이동가능한 좌표 중 정말 갈 수 있는 곳을 반환하는 함수\n",
    "        print(\"현재 위치로부터 한발 짝 이동할 수 있는 좌표를 계산합니다.\")\n",
    "        temp_loc = []\n",
    "        for i in range(len(next_loc)): #행\n",
    "            r = next_loc[i][0] #row\n",
    "            c = next_loc[i][1] #col\n",
    "            \n",
    "            if self.maze[r][c] not in self.history:\n",
    "                print(\"[\", r, \",\", c, \"] 으로 이동가능합니다. 알파벳은 \", self.maze[r][c], \"입니다.\")\n",
    "                temp_loc.append([r,c])\n",
    "                self.locations.append([r,c])\n",
    "        \n",
    "        if not temp_loc:\n",
    "            return self.pop()\n",
    "        \n",
    "        else:\n",
    "            print(\"tem_loc[0] :\", temp_loc[0])\n",
    "            return self.step(temp_loc[0])\n",
    "\n",
    "    \n",
    "    def step(self, locate): #진짜로 이동해서 history에 새로운 알파벳을 넣는 함수\n",
    "        r = locate[0] \n",
    "        c = locate[1]\n",
    "        print(\"이동완료! 이동한 위치는 [\", r, \",\", c, \"] 입니다.\")\n",
    "        self.history.append(self.maze[r][c])\n",
    "        self.step_count = self.step_count + 1\n",
    "        print(\"현재 history는 다음과 같습니다.\", self.history)\n",
    "        print(\"현재 step_count는 \", self.step_count, \"입니다.\")\n",
    "        return locate\n",
    "        \n",
    "    def pop(self):\n",
    "        print(\"더 이상 이동할 곳이 없습니다. 돌아가야합니다.\")\n",
    "        m.locations.pop()\n",
    "        return m.locations[-1]"
   ]
  },
  {
   "cell_type": "code",
   "execution_count": null,
   "metadata": {},
   "outputs": [],
   "source": [
    "m = Maze_Runner()"
   ]
  },
  {
   "cell_type": "code",
   "execution_count": 778,
   "metadata": {},
   "outputs": [
    {
     "name": "stdout",
     "output_type": "stream",
     "text": [
      "현재 위치는  [0, 0] 입니다.\n",
      "가생이에 있으므로 이동할 수 있는 경로는  [[1, 0], [0, 1]] 입니다.\n",
      "현재 위치로부터 한발 짝 이동할 수 있는 좌표를 계산합니다.\n",
      "[ 1 , 0 ] 으로 이동가능합니다. 알파벳은  A 입니다.\n",
      "[ 0 , 1 ] 으로 이동가능합니다. 알파벳은  A 입니다.\n",
      "tem_loc[0] : [1, 0]\n",
      "이동완료! 이동한 위치는 [ 1 , 0 ] 입니다.\n",
      "현재 history는 다음과 같습니다. ['C', 'A']\n",
      "현재 step_count는  2 입니다.\n",
      "현재 위치는  [1, 0] 입니다.\n",
      "가생이에 있으므로 이동할 수 있는 경로는  [[0, 0], [1, 1]] 입니다.\n",
      "현재 위치로부터 한발 짝 이동할 수 있는 좌표를 계산합니다.\n",
      "[ 1 , 1 ] 으로 이동가능합니다. 알파벳은  D 입니다.\n",
      "tem_loc[0] : [1, 1]\n",
      "이동완료! 이동한 위치는 [ 1 , 1 ] 입니다.\n",
      "현재 history는 다음과 같습니다. ['C', 'A', 'D']\n",
      "현재 step_count는  3 입니다.\n",
      "현재 위치는  [1, 1] 입니다.\n",
      "벽에 있으므로 이동할 수 있는 경로는  [[1, 2], [1, 0], [0, 1]] 입니다.\n",
      "현재 위치로부터 한발 짝 이동할 수 있는 좌표를 계산합니다.\n",
      "더 이상 이동할 곳이 없습니다. 돌아가야합니다.\n",
      "현재 위치는  [0, 1] 입니다.\n",
      "벽에 있으므로 이동할 수 있는 경로는  [[0, 2], [0, 0], [1, 1]] 입니다.\n",
      "현재 위치로부터 한발 짝 이동할 수 있는 좌표를 계산합니다.\n",
      "더 이상 이동할 곳이 없습니다. 돌아가야합니다.\n",
      "현재 위치는  [1, 0] 입니다.\n",
      "가생이에 있으므로 이동할 수 있는 경로는  [[0, 0], [1, 1]] 입니다.\n",
      "현재 위치로부터 한발 짝 이동할 수 있는 좌표를 계산합니다.\n",
      "더 이상 이동할 곳이 없습니다. 돌아가야합니다.\n",
      "\n",
      " 미로찾기 끝! 이동할 수 있는 최대 칸 수는  3 입니다\n"
     ]
    }
   ],
   "source": [
    "locate = [0, 0]\n",
    "\n",
    "while True:\n",
    "    next_loc = m.available_location(locate)\n",
    "    locate = m.available_step(next_loc)\n",
    "    if m.locations[-1] == [0, 0]:\n",
    "        break\n",
    "print(\"\\n 미로찾기 끝! 이동할 수 있는 최대 칸 수는 \", m.step_count, \"입니다\")"
   ]
  },
  {
   "cell_type": "markdown",
   "metadata": {},
   "source": [
    "1. locate : 현재 위치\n",
    "2. next_loc : 현재로부터 이동가능한 좌표\n",
    "3. temp_loc : 현재로부터 이동가능하면서 히스토리에도 없는 좌표"
   ]
  },
  {
   "cell_type": "code",
   "execution_count": 729,
   "metadata": {},
   "outputs": [
    {
     "name": "stdout",
     "output_type": "stream",
     "text": [
      "현재 위치는  [0, 0] 입니다.\n",
      "가생이에 있으므로 이동할 수 있는 경로는  [[1, 0], [0, 1]] 입니다.\n",
      "현재 위치로부터 한발 짝 이동할 수 있는 좌표를 계산합니다.\n",
      "[ 1 , 0 ] 으로 이동가능합니다. 알파벳은  A 입니다.\n",
      "[ 0 , 1 ] 으로 이동가능합니다. 알파벳은  A 입니다.\n",
      "tem_loc[0] : [1, 0]\n",
      "이동완료! 이동한 위치는 [ 1 , 0 ] 입니다.\n",
      "현재 history는 다음과 같습니다. ['C', 'A']\n",
      "현재 step_count는  2 입니다.\n"
     ]
    }
   ],
   "source": [
    "#현재 위치는 locate에 저장합니다.\n",
    "locate = [0, 0]\n",
    "next_loc = m.available_location(locate)\n",
    "locate = m.available_step(next_loc)"
   ]
  },
  {
   "cell_type": "code",
   "execution_count": 730,
   "metadata": {},
   "outputs": [
    {
     "name": "stdout",
     "output_type": "stream",
     "text": [
      "[[1, 0], [0, 1]] / [[0, 0], [1, 0], [0, 1]]\n"
     ]
    }
   ],
   "source": [
    "print(next_loc, \"/\", m.locations)"
   ]
  },
  {
   "cell_type": "code",
   "execution_count": 731,
   "metadata": {},
   "outputs": [
    {
     "data": {
      "text/plain": [
       "([0, 1], [1, 0])"
      ]
     },
     "execution_count": 731,
     "metadata": {},
     "output_type": "execute_result"
    }
   ],
   "source": [
    "m.locations[-1], locate"
   ]
  },
  {
   "cell_type": "code",
   "execution_count": 732,
   "metadata": {},
   "outputs": [
    {
     "name": "stdout",
     "output_type": "stream",
     "text": [
      "현재 위치는  [1, 0] 입니다.\n",
      "가생이에 있으므로 이동할 수 있는 경로는  [[0, 0], [1, 1]] 입니다.\n",
      "현재 위치로부터 한발 짝 이동할 수 있는 좌표를 계산합니다.\n",
      "[ 1 , 1 ] 으로 이동가능합니다. 알파벳은  D 입니다.\n",
      "tem_loc[0] : [1, 1]\n",
      "이동완료! 이동한 위치는 [ 1 , 1 ] 입니다.\n",
      "현재 history는 다음과 같습니다. ['C', 'A', 'D']\n",
      "현재 step_count는  3 입니다.\n"
     ]
    }
   ],
   "source": [
    "locate #[0,1]\n",
    "next_loc = m.available_location(locate)\n",
    "locate = m.available_step(next_loc)\n",
    "# locate = m.step(temp_loc[0])"
   ]
  },
  {
   "cell_type": "code",
   "execution_count": 733,
   "metadata": {},
   "outputs": [
    {
     "name": "stdout",
     "output_type": "stream",
     "text": [
      "[[0, 0], [1, 1]] / [[0, 0], [1, 0], [0, 1], [1, 1]]\n"
     ]
    }
   ],
   "source": [
    "print(next_loc, \"/\", m.locations)"
   ]
  },
  {
   "cell_type": "code",
   "execution_count": 734,
   "metadata": {},
   "outputs": [
    {
     "data": {
      "text/plain": [
       "([1, 1], [1, 1])"
      ]
     },
     "execution_count": 734,
     "metadata": {},
     "output_type": "execute_result"
    }
   ],
   "source": [
    "m.locations[-1], locate"
   ]
  },
  {
   "cell_type": "code",
   "execution_count": 735,
   "metadata": {},
   "outputs": [
    {
     "name": "stdout",
     "output_type": "stream",
     "text": [
      "현재 위치는  [1, 1] 입니다.\n",
      "벽에 있으므로 이동할 수 있는 경로는  [[1, 2], [1, 0], [0, 1]] 입니다.\n",
      "현재 위치로부터 한발 짝 이동할 수 있는 좌표를 계산합니다.\n",
      "더 이상 이동할 곳이 없습니다. 돌아가야합니다.\n"
     ]
    }
   ],
   "source": [
    "locate #[1,1]\n",
    "next_loc = m.available_location(locate)\n",
    "locate = m.available_step(next_loc)"
   ]
  },
  {
   "cell_type": "code",
   "execution_count": 736,
   "metadata": {},
   "outputs": [
    {
     "data": {
      "text/plain": [
       "([0, 1], [0, 1])"
      ]
     },
     "execution_count": 736,
     "metadata": {},
     "output_type": "execute_result"
    }
   ],
   "source": [
    "m.locations[-1], locate"
   ]
  },
  {
   "cell_type": "code",
   "execution_count": 737,
   "metadata": {},
   "outputs": [
    {
     "name": "stdout",
     "output_type": "stream",
     "text": [
      "현재 위치는  [0, 1] 입니다.\n",
      "벽에 있으므로 이동할 수 있는 경로는  [[0, 2], [0, 0], [1, 1]] 입니다.\n",
      "현재 위치로부터 한발 짝 이동할 수 있는 좌표를 계산합니다.\n",
      "더 이상 이동할 곳이 없습니다. 돌아가야합니다.\n"
     ]
    }
   ],
   "source": [
    "next_loc = m.available_location(locate)\n",
    "locate = m.available_step(next_loc)"
   ]
  },
  {
   "cell_type": "code",
   "execution_count": 738,
   "metadata": {},
   "outputs": [
    {
     "data": {
      "text/plain": [
       "([1, 0], [1, 0])"
      ]
     },
     "execution_count": 738,
     "metadata": {},
     "output_type": "execute_result"
    }
   ],
   "source": [
    "m.locations[-1], locate"
   ]
  },
  {
   "cell_type": "code",
   "execution_count": 739,
   "metadata": {},
   "outputs": [
    {
     "name": "stdout",
     "output_type": "stream",
     "text": [
      "현재 위치는  [1, 0] 입니다.\n",
      "가생이에 있으므로 이동할 수 있는 경로는  [[0, 0], [1, 1]] 입니다.\n",
      "현재 위치로부터 한발 짝 이동할 수 있는 좌표를 계산합니다.\n",
      "더 이상 이동할 곳이 없습니다. 돌아가야합니다.\n"
     ]
    }
   ],
   "source": [
    "next_loc = m.available_location(locate)\n",
    "locate = m.available_step(next_loc)"
   ]
  },
  {
   "cell_type": "code",
   "execution_count": 740,
   "metadata": {},
   "outputs": [
    {
     "data": {
      "text/plain": [
       "([0, 0], [0, 0])"
      ]
     },
     "execution_count": 740,
     "metadata": {},
     "output_type": "execute_result"
    }
   ],
   "source": [
    "m.locations[-1], locate"
   ]
  },
  {
   "cell_type": "code",
   "execution_count": 741,
   "metadata": {},
   "outputs": [],
   "source": [
    "if m.locations[-1] == 0:\n",
    "    print(\"미로찾기 끝! 이동할 수 있는 최대 칸 수는 \", m.step_count, \"입니다\")"
   ]
  },
  {
   "cell_type": "code",
   "execution_count": null,
   "metadata": {},
   "outputs": [],
   "source": []
  },
  {
   "cell_type": "code",
   "execution_count": null,
   "metadata": {},
   "outputs": [],
   "source": []
  },
  {
   "cell_type": "code",
   "execution_count": null,
   "metadata": {},
   "outputs": [],
   "source": []
  }
 ],
 "metadata": {
  "kernelspec": {
   "display_name": "Python 3",
   "language": "python",
   "name": "python3"
  },
  "language_info": {
   "codemirror_mode": {
    "name": "ipython",
    "version": 3
   },
   "file_extension": ".py",
   "mimetype": "text/x-python",
   "name": "python",
   "nbconvert_exporter": "python",
   "pygments_lexer": "ipython3",
   "version": "3.7.6"
  }
 },
 "nbformat": 4,
 "nbformat_minor": 4
}
