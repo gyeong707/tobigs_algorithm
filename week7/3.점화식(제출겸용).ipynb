{
 "cells": [
  {
   "cell_type": "code",
   "execution_count": 5,
   "metadata": {},
   "outputs": [
    {
     "name": "stdin",
     "output_type": "stream",
     "text": [
      " 50000\n"
     ]
    },
    {
     "name": "stdout",
     "output_type": "stream",
     "text": [
      "2404\n"
     ]
    }
   ],
   "source": [
    "num = int(input())\n",
    "dan = [3, 7, 17]\n",
    "\n",
    "if num == 1:\n",
    "    print(dan[0])\n",
    "    \n",
    "elif num == 2:\n",
    "    print(dan[1])\n",
    "    \n",
    "else:\n",
    "    for n in range(2, num-1):\n",
    "        temp = (dan[2] * 2) + dan[1]\n",
    "        dan[0] = dan[1]\n",
    "        dan[1] = dan[2]\n",
    "        dan[2] = temp\n",
    "    print(dan[2] % 9901)"
   ]
  },
  {
   "cell_type": "code",
   "execution_count": null,
   "metadata": {},
   "outputs": [],
   "source": []
  }
 ],
 "metadata": {
  "kernelspec": {
   "display_name": "Python 3",
   "language": "python",
   "name": "python3"
  },
  "language_info": {
   "codemirror_mode": {
    "name": "ipython",
    "version": 3
   },
   "file_extension": ".py",
   "mimetype": "text/x-python",
   "name": "python",
   "nbconvert_exporter": "python",
   "pygments_lexer": "ipython3",
   "version": "3.7.6"
  }
 },
 "nbformat": 4,
 "nbformat_minor": 4
}
