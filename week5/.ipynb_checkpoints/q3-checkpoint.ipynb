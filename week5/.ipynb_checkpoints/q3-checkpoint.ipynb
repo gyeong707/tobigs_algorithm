{
 "cells": [
  {
   "cell_type": "code",
   "execution_count": null,
   "metadata": {},
   "outputs": [],
   "source": [
    "import re"
   ]
  },
  {
   "cell_type": "code",
   "execution_count": null,
   "metadata": {},
   "outputs": [],
   "source": [
    "str1 = \"two(one(a), one(b))\""
   ]
  },
  {
   "cell_type": "code",
   "execution_count": 3,
   "metadata": {},
   "outputs": [
    {
     "data": {
      "text/plain": [
       "'two(a, a)'"
      ]
     },
     "execution_count": 3,
     "metadata": {},
     "output_type": "execute_result"
    }
   ],
   "source": [
    "one = re.sub('one\\([ab]{1}\\)', 'a', str1) \n",
    "one"
   ]
  },
  {
   "cell_type": "code",
   "execution_count": 4,
   "metadata": {},
   "outputs": [],
   "source": [
    "str2 = \"two(two(a,b),two(a,a))\""
   ]
  },
  {
   "cell_type": "code",
   "execution_count": 5,
   "metadata": {},
   "outputs": [
    {
     "data": {
      "text/plain": [
       "'two(a,a)'"
      ]
     },
     "execution_count": 5,
     "metadata": {},
     "output_type": "execute_result"
    }
   ],
   "source": [
    "two = re.sub('two\\([ab]{1},[ab]{1}\\)', 'a', str2)\n",
    "two"
   ]
  },
  {
   "cell_type": "code",
   "execution_count": 6,
   "metadata": {},
   "outputs": [],
   "source": [
    "str3 = \"two(b,two(one(one(b)),two(a,two(two(a,one(two(a,b))),a))))\""
   ]
  },
  {
   "cell_type": "code",
   "execution_count": 7,
   "metadata": {},
   "outputs": [
    {
     "data": {
      "text/plain": [
       "'two(b,two(one(a),two(a,two(two(a,one(two(a,b))),a))))'"
      ]
     },
     "execution_count": 7,
     "metadata": {},
     "output_type": "execute_result"
    }
   ],
   "source": [
    "one = re.sub('one\\([ab]{1}\\)', 'a', str3)\n",
    "one"
   ]
  },
  {
   "cell_type": "code",
   "execution_count": 8,
   "metadata": {},
   "outputs": [
    {
     "data": {
      "text/plain": [
       "'two(b,two(one(one(b)),two(a,two(two(a,one(a)),a))))'"
      ]
     },
     "execution_count": 8,
     "metadata": {},
     "output_type": "execute_result"
    }
   ],
   "source": [
    "two = re.sub('two\\([ab]{1},[ab]{1}\\)', 'a', str3)\n",
    "two"
   ]
  },
  {
   "cell_type": "code",
   "execution_count": null,
   "metadata": {},
   "outputs": [],
   "source": [
    "import re \n",
    "\n",
    "code = input()'\n",
    "\n",
    "while True:\n",
    "    temp = re.sub('one\\([ab]{1}\\)', 'a', code)\n",
    "    res = re.sub('two\\([ab]{1},[ab]{1}\\)', 'a', temp)\n",
    "    if code == temp and temp == res:\n",
    "        break;\n",
    "    else:\n",
    "        code = res\n",
    "\n",
    "if res == 'a':\n",
    "    print(\"No Error\")\n",
    "else:\n",
    "    print(\"Syntax Error\")\n"
   ]
  },
  {
   "cell_type": "code",
   "execution_count": null,
   "metadata": {},
   "outputs": [],
   "source": []
  }
 ],
 "metadata": {
  "kernelspec": {
   "display_name": "Python 3",
   "language": "python",
   "name": "python3"
  },
  "language_info": {
   "codemirror_mode": {
    "name": "ipython",
    "version": 3
   },
   "file_extension": ".py",
   "mimetype": "text/x-python",
   "name": "python",
   "nbconvert_exporter": "python",
   "pygments_lexer": "ipython3",
   "version": "3.7.6"
  }
 },
 "nbformat": 4,
 "nbformat_minor": 4
}
