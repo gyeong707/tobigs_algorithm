{
 "cells": [
  {
   "cell_type": "code",
   "execution_count": 2,
   "metadata": {},
   "outputs": [],
   "source": [
    "str1 = \"?ab??a\""
   ]
  },
  {
   "cell_type": "code",
   "execution_count": 3,
   "metadata": {},
   "outputs": [],
   "source": [
    "str2 = \"bab??a\""
   ]
  },
  {
   "cell_type": "code",
   "execution_count": 26,
   "metadata": {},
   "outputs": [
    {
     "data": {
      "text/plain": [
       "'?'"
      ]
     },
     "execution_count": 26,
     "metadata": {},
     "output_type": "execute_result"
    }
   ],
   "source": [
    "str1[0]"
   ]
  },
  {
   "cell_type": "code",
   "execution_count": 11,
   "metadata": {},
   "outputs": [
    {
     "data": {
      "text/plain": [
       "'a'"
      ]
     },
     "execution_count": 11,
     "metadata": {},
     "output_type": "execute_result"
    }
   ],
   "source": [
    "str1[-1]"
   ]
  },
  {
   "cell_type": "code",
   "execution_count": 28,
   "metadata": {},
   "outputs": [
    {
     "data": {
      "text/plain": [
       "False"
      ]
     },
     "execution_count": 28,
     "metadata": {},
     "output_type": "execute_result"
    }
   ],
   "source": [
    "str1[0] == str1[-1] or str1[-1] == \"?\""
   ]
  },
  {
   "cell_type": "code",
   "execution_count": 33,
   "metadata": {},
   "outputs": [
    {
     "data": {
      "text/plain": [
       "3.0"
      ]
     },
     "execution_count": 33,
     "metadata": {},
     "output_type": "execute_result"
    }
   ],
   "source": [
    "le = len(str1)/2\n",
    "le"
   ]
  },
  {
   "cell_type": "code",
   "execution_count": 38,
   "metadata": {},
   "outputs": [
    {
     "name": "stdout",
     "output_type": "stream",
     "text": [
      "?_1 a\n",
      "?_2 aa\n",
      "?_2 aab\n"
     ]
    }
   ],
   "source": [
    "res_str = ''\n",
    "for i in range(int(le)):\n",
    "    if str1[i] == str1[-(i+1)]:\n",
    "        res_str += str1[i]\n",
    "        print(\"일치함.\", res_str)\n",
    "        \n",
    "    elif str1[i] == \"?\":\n",
    "        res_str += str1[-(i+1)]\n",
    "        print(\"?_1\", res_str)\n",
    "\n",
    "    elif str1[-(i+1)] == \"?\":\n",
    "        res_str += str1[i]\n",
    "        print(\"?_2\", res_str)\n",
    "    \n",
    "    else:\n",
    "        print(\"None\")\n",
    "        break"
   ]
  },
  {
   "cell_type": "code",
   "execution_count": 40,
   "metadata": {},
   "outputs": [
    {
     "data": {
      "text/plain": [
       "'baa'"
      ]
     },
     "execution_count": 40,
     "metadata": {},
     "output_type": "execute_result"
    }
   ],
   "source": [
    "res_str_reverse = res_str[::-1]\n",
    "res_str_reverse"
   ]
  },
  {
   "cell_type": "code",
   "execution_count": 41,
   "metadata": {},
   "outputs": [
    {
     "data": {
      "text/plain": [
       "'aabbaa'"
      ]
     },
     "execution_count": 41,
     "metadata": {},
     "output_type": "execute_result"
    }
   ],
   "source": [
    "res_str + res_str_reverse"
   ]
  },
  {
   "cell_type": "code",
   "execution_count": 56,
   "metadata": {},
   "outputs": [
    {
     "data": {
      "text/plain": [
       "'b'"
      ]
     },
     "execution_count": 56,
     "metadata": {},
     "output_type": "execute_result"
    }
   ],
   "source": [
    "str2 = \"?ab?b\"\n",
    "str2[int(len(str1)/2)]"
   ]
  },
  {
   "cell_type": "markdown",
   "metadata": {},
   "source": [
    "***"
   ]
  },
  {
   "cell_type": "code",
   "execution_count": 63,
   "metadata": {},
   "outputs": [
    {
     "name": "stdin",
     "output_type": "stream",
     "text": [
      " z???z\n"
     ]
    },
    {
     "name": "stdout",
     "output_type": "stream",
     "text": [
      "zaaaz\n"
     ]
    }
   ],
   "source": [
    "str1 = input()\n",
    "le = len(str1)/2\n",
    "\n",
    "res_str = ''\n",
    "for i in range(int(le)):\n",
    "    if str1[i] == str1[-(i+1)]:\n",
    "        if str1[i] == \"?\":\n",
    "            res_str += \"a\"\n",
    "        else:\n",
    "            res_str += str1[i]\n",
    "    \n",
    "    \n",
    "    elif str1[i] == \"?\":\n",
    "        res_str += str1[-(i+1)]\n",
    "\n",
    "    elif str1[-(i+1)] == \"?\":\n",
    "        res_str += str1[i]\n",
    "    \n",
    "    else:\n",
    "        res_str = \"NO\"\n",
    "        print(res_str)\n",
    "        break\n",
    "\n",
    "if res_str != \"NO\":\n",
    "    res_str_reverse = res_str[::-1]\n",
    "    if len(str1) % 2 == 0: #짝수인 경우\n",
    "        result = res_str + res_str_reverse\n",
    "        print(result)\n",
    "    else: #홀수인 경우\n",
    "        cen = str1[int(len(str1)/2)]\n",
    "        if cen == \"?\":\n",
    "            cen = \"a\"\n",
    "        result = res_str + cen + res_str_reverse\n",
    "        print(result)\n",
    "        "
   ]
  },
  {
   "cell_type": "code",
   "execution_count": null,
   "metadata": {},
   "outputs": [],
   "source": []
  }
 ],
 "metadata": {
  "kernelspec": {
   "display_name": "Python 3",
   "language": "python",
   "name": "python3"
  },
  "language_info": {
   "codemirror_mode": {
    "name": "ipython",
    "version": 3
   },
   "file_extension": ".py",
   "mimetype": "text/x-python",
   "name": "python",
   "nbconvert_exporter": "python",
   "pygments_lexer": "ipython3",
   "version": "3.7.6"
  }
 },
 "nbformat": 4,
 "nbformat_minor": 4
}
