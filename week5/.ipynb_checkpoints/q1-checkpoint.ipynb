{
 "cells": [
  {
   "cell_type": "code",
   "execution_count": null,
   "metadata": {},
   "outputs": [],
   "source": [
    "from itertools import combinations\n",
    "\n",
    "def solution(A):\n",
    "    \n",
    "    #모든 조합을 반환함.\n",
    "    len_A = len(A)+1\n",
    "    cb = []\n",
    "    for i in range(1, len_A):\n",
    "        cb.append(list(combinations(A, i)))\n",
    "        \n",
    "    \n",
    "    #모든 조합을 반환한 그 결과를 모두 이어붙임.\n",
    "    concat = []\n",
    "    for i in range(len(cb)):\n",
    "        for j in range(len(cb[i])):\n",
    "            concat.append(''.join(list(cb[i][j])))\n",
    "\n",
    "            \n",
    "    #이걸 큰 순서대로 다시 정렬함.\n",
    "    concat = sorted(concat, key=len, reverse=True)\n",
    "    \n",
    "    \n",
    "    #이제 이걸 set에 넣고 중복값이 있는지 확인\n",
    "    i = 0\n",
    "    ans = 0\n",
    "    while i < len(concat):\n",
    "        if len(concat[i]) == len(set(concat[i])):\n",
    "            ans = len(concat[i])\n",
    "            break\n",
    "        i+=1\n",
    "\n",
    "    return ans\n",
    "\n",
    "A = list(input().split())\n",
    "print(solution(A))"
   ]
  },
  {
   "cell_type": "code",
   "execution_count": 24,
   "metadata": {},
   "outputs": [],
   "source": [
    "A = ['abc', 'yyy', 'def', 'csv']"
   ]
  },
  {
   "cell_type": "code",
   "execution_count": 25,
   "metadata": {},
   "outputs": [
    {
     "data": {
      "text/plain": [
       "3"
      ]
     },
     "execution_count": 25,
     "metadata": {},
     "output_type": "execute_result"
    }
   ],
   "source": [
    "len(A[0])"
   ]
  },
  {
   "cell_type": "code",
   "execution_count": 26,
   "metadata": {},
   "outputs": [],
   "source": [
    "#일단 탐욕 알고리즘으로 가장 긴 문자열을 비교함.\n",
    "#두 문자열을 합친 값을 set 함수에 넣으면 중복값이 제거됨.\n",
    "#중복값이 제거된다면 이전과 이후의 길이가 다를 것. \n",
    "#그렇다면 걔는 넘겨버리고 다음으로 이동. \n",
    "#만약에 이전과 이후의 길이가 같다면, 그냥 그거 반환하고 함수를 종료함."
   ]
  },
  {
   "cell_type": "code",
   "execution_count": 27,
   "metadata": {},
   "outputs": [
    {
     "name": "stdout",
     "output_type": "stream",
     "text": [
      "전체 A의 길이 :  5\n",
      "1\n",
      "[[('abc',), ('yyy',), ('def',), ('csv',)]]\n",
      "2\n",
      "[[('abc',), ('yyy',), ('def',), ('csv',)], [('abc', 'yyy'), ('abc', 'def'), ('abc', 'csv'), ('yyy', 'def'), ('yyy', 'csv'), ('def', 'csv')]]\n",
      "3\n",
      "[[('abc',), ('yyy',), ('def',), ('csv',)], [('abc', 'yyy'), ('abc', 'def'), ('abc', 'csv'), ('yyy', 'def'), ('yyy', 'csv'), ('def', 'csv')], [('abc', 'yyy', 'def'), ('abc', 'yyy', 'csv'), ('abc', 'def', 'csv'), ('yyy', 'def', 'csv')]]\n",
      "4\n",
      "[[('abc',), ('yyy',), ('def',), ('csv',)], [('abc', 'yyy'), ('abc', 'def'), ('abc', 'csv'), ('yyy', 'def'), ('yyy', 'csv'), ('def', 'csv')], [('abc', 'yyy', 'def'), ('abc', 'yyy', 'csv'), ('abc', 'def', 'csv'), ('yyy', 'def', 'csv')], [('abc', 'yyy', 'def', 'csv')]]\n",
      "[[('abc',), ('yyy',), ('def',), ('csv',)], [('abc', 'yyy'), ('abc', 'def'), ('abc', 'csv'), ('yyy', 'def'), ('yyy', 'csv'), ('def', 'csv')], [('abc', 'yyy', 'def'), ('abc', 'yyy', 'csv'), ('abc', 'def', 'csv'), ('yyy', 'def', 'csv')], [('abc', 'yyy', 'def', 'csv')]]\n"
     ]
    }
   ],
   "source": [
    "#모든 조합을 반환함.\n",
    "from itertools import combinations\n",
    "len_A = len(A)+1\n",
    "perm = []\n",
    "print(\"전체 A의 길이 : \", len_A)\n",
    "for i in range(1, len_A):\n",
    "    print(i)\n",
    "    perm.append(list(combinations(A, i)))\n",
    "    print(perm)\n",
    "print(perm)"
   ]
  },
  {
   "cell_type": "code",
   "execution_count": 28,
   "metadata": {},
   "outputs": [
    {
     "data": {
      "text/plain": [
       "['abc',\n",
       " 'yyy',\n",
       " 'def',\n",
       " 'csv',\n",
       " 'abcyyy',\n",
       " 'abcdef',\n",
       " 'abccsv',\n",
       " 'yyydef',\n",
       " 'yyycsv',\n",
       " 'defcsv',\n",
       " 'abcyyydef',\n",
       " 'abcyyycsv',\n",
       " 'abcdefcsv',\n",
       " 'yyydefcsv',\n",
       " 'abcyyydefcsv']"
      ]
     },
     "execution_count": 28,
     "metadata": {},
     "output_type": "execute_result"
    }
   ],
   "source": [
    "#모든 조합을 반환한 그 결과를 모두 이어붙임.\n",
    "concat = []\n",
    "for i in range(len(perm)):\n",
    "    for j in range(len(perm[i])):\n",
    "        concat.append(''.join(list(perm[i][j])))\n",
    "concat"
   ]
  },
  {
   "cell_type": "code",
   "execution_count": 29,
   "metadata": {},
   "outputs": [
    {
     "data": {
      "text/plain": [
       "['abcyyydefcsv',\n",
       " 'abcyyydef',\n",
       " 'abcyyycsv',\n",
       " 'abcdefcsv',\n",
       " 'yyydefcsv',\n",
       " 'abcyyy',\n",
       " 'abcdef',\n",
       " 'abccsv',\n",
       " 'yyydef',\n",
       " 'yyycsv',\n",
       " 'defcsv',\n",
       " 'abc',\n",
       " 'yyy',\n",
       " 'def',\n",
       " 'csv']"
      ]
     },
     "execution_count": 29,
     "metadata": {},
     "output_type": "execute_result"
    }
   ],
   "source": [
    "#이걸 큰 순서대로 다시 정렬함.\n",
    "concat = sorted(concat, key=len, reverse=True)\n",
    "concat"
   ]
  },
  {
   "cell_type": "code",
   "execution_count": 32,
   "metadata": {},
   "outputs": [
    {
     "name": "stdout",
     "output_type": "stream",
     "text": [
      "i :  0\n",
      "before :  12\n",
      "after :  9\n",
      "i :  1\n",
      "before :  9\n",
      "after :  7\n",
      "i :  2\n",
      "before :  9\n",
      "after :  6\n",
      "i :  3\n",
      "before :  9\n",
      "after :  8\n",
      "i :  4\n",
      "before :  9\n",
      "after :  7\n",
      "i :  5\n",
      "before :  6\n",
      "after :  4\n",
      "i :  6\n",
      "before :  6\n",
      "after :  6\n"
     ]
    }
   ],
   "source": [
    "#이제 이걸 set에 넣고 중복값이 있는지 확인\n",
    "i = 0\n",
    "while i < len(concat):\n",
    "    print(\"i : \", i)\n",
    "    b_len = len(concat[i])\n",
    "    a_len = len(set(concat[i]))\n",
    "    print(\"before : \", b_len)\n",
    "    print(\"after : \", a_len)\n",
    "    if b_len == a_len:\n",
    "        break\n",
    "        print(b_len)\n",
    "    i+=1"
   ]
  },
  {
   "cell_type": "code",
   "execution_count": 31,
   "metadata": {},
   "outputs": [
    {
     "data": {
      "text/plain": [
       "9"
      ]
     },
     "execution_count": 31,
     "metadata": {},
     "output_type": "execute_result"
    }
   ],
   "source": []
  },
  {
   "cell_type": "code",
   "execution_count": null,
   "metadata": {},
   "outputs": [],
   "source": []
  }
 ],
 "metadata": {
  "kernelspec": {
   "display_name": "Python 3",
   "language": "python",
   "name": "python3"
  },
  "language_info": {
   "codemirror_mode": {
    "name": "ipython",
    "version": 3
   },
   "file_extension": ".py",
   "mimetype": "text/x-python",
   "name": "python",
   "nbconvert_exporter": "python",
   "pygments_lexer": "ipython3",
   "version": "3.7.6"
  }
 },
 "nbformat": 4,
 "nbformat_minor": 4
}
